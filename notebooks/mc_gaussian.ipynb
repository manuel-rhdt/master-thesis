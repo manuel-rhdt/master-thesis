{
 "nbformat": 4,
 "nbformat_minor": 2,
 "metadata": {
  "language_info": {
   "name": "python",
   "codemirror_mode": {
    "name": "ipython",
    "version": 3
   },
   "version": "3.7.4-final"
  },
  "orig_nbformat": 2,
  "file_extension": ".py",
  "mimetype": "text/x-python",
  "name": "python",
  "npconvert_exporter": "python",
  "pygments_lexer": "ipython3",
  "version": 3,
  "kernelspec": {
   "name": "python37464bitbasecondaae94fa3c44b843b6b395a9aa543ffc41",
   "display_name": "Python 3.7.4 64-bit ('base': conda)"
  }
 },
 "cells": [
  {
   "cell_type": "code",
   "execution_count": 1,
   "metadata": {},
   "outputs": [],
   "source": [
    "import sys\n",
    "from pathlib import Path\n",
    "sys.path = list(set(sys.path + [\"../python\"]))"
   ]
  },
  {
   "cell_type": "code",
   "execution_count": 2,
   "metadata": {},
   "outputs": [],
   "source": [
    "import numpy\n",
    "import pandas as pd\n",
    "from gaussian_system import System, time_matrix, estimate_log_marginal"
   ]
  },
  {
   "cell_type": "code",
   "execution_count": 3,
   "metadata": {},
   "outputs": [
    {
     "output_type": "execute_result",
     "data": {
      "text/plain": "PosixPath('/Users/mr/Git/Gillespie/plots')"
     },
     "metadata": {},
     "execution_count": 3
    }
   ],
   "source": [
    "path = Path.cwd().parent / \"plots\"\n",
    "assert path.exists()\n",
    "path"
   ]
  },
  {
   "cell_type": "code",
   "execution_count": 4,
   "metadata": {},
   "outputs": [],
   "source": [
    "system = System(lamda = 0.005, kappa = 0.25, rho = 0.01, mu = 0.01)\n",
    "traj_len = 500"
   ]
  },
  {
   "cell_type": "code",
   "execution_count": 5,
   "metadata": {},
   "outputs": [],
   "source": [
    "def marginal_entropy_estimate(system, dim, delta_t, num_x, num_s):\n",
    "    _, p_x = estimate_log_marginal(num_x, num_s, system, time_matrix(dim, delta_t))\n",
    "    return pd.DataFrame(\n",
    "        {\n",
    "            \"dim\": dim,\n",
    "            \"delta_t\": delta_t,\n",
    "            \"num_responses\": 1,\n",
    "            \"num_signals\": num_s,\n",
    "            \"marginal_entropy\": -p_x,\n",
    "        }\n",
    "    )"
   ]
  },
  {
   "cell_type": "code",
   "execution_count": 6,
   "metadata": {},
   "outputs": [],
   "source": [
    "def generate_data():\n",
    "    estimates = (\n",
    "        marginal_entropy_estimate(system, dim, traj_len / dim, 400, 550)\n",
    "        for dim in numpy.linspace(100, 400, 6).astype(int)\n",
    "    )\n",
    "    pd.concat(estimates, ignore_index=True).to_json(\n",
    "        path / \"monte-carlo\" / \"data.json\", orient=\"table\"\n",
    "    )"
   ]
  },
  {
   "cell_type": "code",
   "execution_count": 7,
   "metadata": {},
   "outputs": [],
   "source": [
    "generate_data()"
   ]
  },
  {
   "cell_type": "code",
   "execution_count": 8,
   "metadata": {},
   "outputs": [
    {
     "output_type": "execute_result",
     "data": {
      "text/plain": "      dim  delta_t  num_responses  num_signals  marginal_entropy\n0     100     5.00              1          550        217.238096\n1     100     5.00              1          550        216.086224\n2     100     5.00              1          550        234.830855\n3     100     5.00              1          550        226.434792\n4     100     5.00              1          550        233.746046\n...   ...      ...            ...          ...               ...\n2395  400     1.25              1          550        611.748674\n2396  400     1.25              1          550        621.235770\n2397  400     1.25              1          550        589.843572\n2398  400     1.25              1          550        606.137892\n2399  400     1.25              1          550        595.475571\n\n[2400 rows x 5 columns]",
      "text/html": "<div>\n<style scoped>\n    .dataframe tbody tr th:only-of-type {\n        vertical-align: middle;\n    }\n\n    .dataframe tbody tr th {\n        vertical-align: top;\n    }\n\n    .dataframe thead th {\n        text-align: right;\n    }\n</style>\n<table border=\"1\" class=\"dataframe\">\n  <thead>\n    <tr style=\"text-align: right;\">\n      <th></th>\n      <th>dim</th>\n      <th>delta_t</th>\n      <th>num_responses</th>\n      <th>num_signals</th>\n      <th>marginal_entropy</th>\n    </tr>\n  </thead>\n  <tbody>\n    <tr>\n      <th>0</th>\n      <td>100</td>\n      <td>5.00</td>\n      <td>1</td>\n      <td>550</td>\n      <td>217.238096</td>\n    </tr>\n    <tr>\n      <th>1</th>\n      <td>100</td>\n      <td>5.00</td>\n      <td>1</td>\n      <td>550</td>\n      <td>216.086224</td>\n    </tr>\n    <tr>\n      <th>2</th>\n      <td>100</td>\n      <td>5.00</td>\n      <td>1</td>\n      <td>550</td>\n      <td>234.830855</td>\n    </tr>\n    <tr>\n      <th>3</th>\n      <td>100</td>\n      <td>5.00</td>\n      <td>1</td>\n      <td>550</td>\n      <td>226.434792</td>\n    </tr>\n    <tr>\n      <th>4</th>\n      <td>100</td>\n      <td>5.00</td>\n      <td>1</td>\n      <td>550</td>\n      <td>233.746046</td>\n    </tr>\n    <tr>\n      <th>...</th>\n      <td>...</td>\n      <td>...</td>\n      <td>...</td>\n      <td>...</td>\n      <td>...</td>\n    </tr>\n    <tr>\n      <th>2395</th>\n      <td>400</td>\n      <td>1.25</td>\n      <td>1</td>\n      <td>550</td>\n      <td>611.748674</td>\n    </tr>\n    <tr>\n      <th>2396</th>\n      <td>400</td>\n      <td>1.25</td>\n      <td>1</td>\n      <td>550</td>\n      <td>621.235770</td>\n    </tr>\n    <tr>\n      <th>2397</th>\n      <td>400</td>\n      <td>1.25</td>\n      <td>1</td>\n      <td>550</td>\n      <td>589.843572</td>\n    </tr>\n    <tr>\n      <th>2398</th>\n      <td>400</td>\n      <td>1.25</td>\n      <td>1</td>\n      <td>550</td>\n      <td>606.137892</td>\n    </tr>\n    <tr>\n      <th>2399</th>\n      <td>400</td>\n      <td>1.25</td>\n      <td>1</td>\n      <td>550</td>\n      <td>595.475571</td>\n    </tr>\n  </tbody>\n</table>\n<p>2400 rows × 5 columns</p>\n</div>"
     },
     "metadata": {},
     "execution_count": 8
    }
   ],
   "source": [
    "data = pd.read_json(path / \"monte-carlo\" / \"data.json\", orient=\"table\")\n",
    "data"
   ]
  },
  {
   "cell_type": "code",
   "execution_count": 9,
   "metadata": {},
   "outputs": [
    {
     "output_type": "execute_result",
     "data": {
      "text/plain": "   dim   delta_t  num_responses  num_signals  marginal_entropy    stderr\n0  100  5.000000            400       220000        222.448826  0.361264\n1  160  3.125000            400       220000        318.209109  0.447236\n2  220  2.272727            400       220000        403.000345  0.528497\n3  280  1.785714            400       220000        477.638080  0.594237\n4  340  1.470588            400       220000        548.440902  0.681034\n5  400  1.250000            400       220000        612.609541  0.743269",
      "text/html": "<div>\n<style scoped>\n    .dataframe tbody tr th:only-of-type {\n        vertical-align: middle;\n    }\n\n    .dataframe tbody tr th {\n        vertical-align: top;\n    }\n\n    .dataframe thead th {\n        text-align: right;\n    }\n</style>\n<table border=\"1\" class=\"dataframe\">\n  <thead>\n    <tr style=\"text-align: right;\">\n      <th></th>\n      <th>dim</th>\n      <th>delta_t</th>\n      <th>num_responses</th>\n      <th>num_signals</th>\n      <th>marginal_entropy</th>\n      <th>stderr</th>\n    </tr>\n  </thead>\n  <tbody>\n    <tr>\n      <th>0</th>\n      <td>100</td>\n      <td>5.000000</td>\n      <td>400</td>\n      <td>220000</td>\n      <td>222.448826</td>\n      <td>0.361264</td>\n    </tr>\n    <tr>\n      <th>1</th>\n      <td>160</td>\n      <td>3.125000</td>\n      <td>400</td>\n      <td>220000</td>\n      <td>318.209109</td>\n      <td>0.447236</td>\n    </tr>\n    <tr>\n      <th>2</th>\n      <td>220</td>\n      <td>2.272727</td>\n      <td>400</td>\n      <td>220000</td>\n      <td>403.000345</td>\n      <td>0.528497</td>\n    </tr>\n    <tr>\n      <th>3</th>\n      <td>280</td>\n      <td>1.785714</td>\n      <td>400</td>\n      <td>220000</td>\n      <td>477.638080</td>\n      <td>0.594237</td>\n    </tr>\n    <tr>\n      <th>4</th>\n      <td>340</td>\n      <td>1.470588</td>\n      <td>400</td>\n      <td>220000</td>\n      <td>548.440902</td>\n      <td>0.681034</td>\n    </tr>\n    <tr>\n      <th>5</th>\n      <td>400</td>\n      <td>1.250000</td>\n      <td>400</td>\n      <td>220000</td>\n      <td>612.609541</td>\n      <td>0.743269</td>\n    </tr>\n  </tbody>\n</table>\n</div>"
     },
     "metadata": {},
     "execution_count": 9
    }
   ],
   "source": [
    "estimates = data.groupby(['dim', 'delta_t']).agg(\n",
    "    num_responses=('num_responses', 'sum'),\n",
    "    num_signals=('num_signals', 'sum'),\n",
    "    marginal_entropy=('marginal_entropy', 'mean'),\n",
    "    stderr=('marginal_entropy', 'sem')\n",
    ").reset_index()\n",
    "estimates.to_json(path / \"monte-carlo\" / \"estimates.json\", orient=\"table\")\n",
    "estimates"
   ]
  },
  {
   "cell_type": "code",
   "execution_count": null,
   "metadata": {},
   "outputs": [],
   "source": []
  }
 ]
}