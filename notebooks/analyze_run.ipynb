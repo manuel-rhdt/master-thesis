{
 "cells": [
  {
   "cell_type": "code",
   "execution_count": 110,
   "metadata": {},
   "outputs": [],
   "source": [
    "import os\n",
    "import numpy\n",
    "import pathlib\n",
    "import toml\n",
    "from matplotlib import pyplot"
   ]
  },
  {
   "cell_type": "code",
   "execution_count": 111,
   "metadata": {},
   "outputs": [],
   "source": [
    "simpath = pathlib.Path(os.path.expandvars('$GROUP_FOLDER/home-folder/reinhardt/simruns/2019-11-27'))"
   ]
  },
  {
   "cell_type": "code",
   "execution_count": 112,
   "metadata": {},
   "outputs": [
    {
     "data": {
      "text/plain": [
       "PosixPath('/run/user/357100522/gvfs/smb-share:server=sun.amolf.nl,share=tenwolde/home-folder/reinhardt/simruns/2019-11-27')"
      ]
     },
     "execution_count": 112,
     "metadata": {},
     "output_type": "execute_result"
    }
   ],
   "source": [
    "simpath"
   ]
  },
  {
   "cell_type": "code",
   "execution_count": 113,
   "metadata": {},
   "outputs": [
    {
     "data": {
      "text/plain": [
       "[PosixPath('/run/user/357100522/gvfs/smb-share:server=sun.amolf.nl,share=tenwolde/home-folder/reinhardt/simruns/2019-11-27/run_S10.0k'),\n",
       " PosixPath('/run/user/357100522/gvfs/smb-share:server=sun.amolf.nl,share=tenwolde/home-folder/reinhardt/simruns/2019-11-27/run_S0.5k'),\n",
       " PosixPath('/run/user/357100522/gvfs/smb-share:server=sun.amolf.nl,share=tenwolde/home-folder/reinhardt/simruns/2019-11-27/run_S0.1k'),\n",
       " PosixPath('/run/user/357100522/gvfs/smb-share:server=sun.amolf.nl,share=tenwolde/home-folder/reinhardt/simruns/2019-11-27/run_S5.0k'),\n",
       " PosixPath('/run/user/357100522/gvfs/smb-share:server=sun.amolf.nl,share=tenwolde/home-folder/reinhardt/simruns/2019-11-27/run_S20.0k'),\n",
       " PosixPath('/run/user/357100522/gvfs/smb-share:server=sun.amolf.nl,share=tenwolde/home-folder/reinhardt/simruns/2019-11-27/run_S1.0k')]"
      ]
     },
     "execution_count": 113,
     "metadata": {},
     "output_type": "execute_result"
    }
   ],
   "source": [
    "list(simpath.glob('run*'))"
   ]
  },
  {
   "cell_type": "code",
   "execution_count": 136,
   "metadata": {},
   "outputs": [],
   "source": [
    "def load_run(path):\n",
    "    path = pathlib.Path(path)\n",
    "    info = toml.load(path / 'info.toml')\n",
    "    mut_inf = numpy.load(path / 'mutual_information.npz')\n",
    "    data = {}\n",
    "    for key, val in mut_inf.items():\n",
    "        data[key] = numpy.mean(val, axis=0)\n",
    "    return {'info': info, 'data': data}"
   ]
  },
  {
   "cell_type": "code",
   "execution_count": 165,
   "metadata": {},
   "outputs": [],
   "source": [
    "#simulation_results = [load_run(path) for path in simpath.glob('run*')]\n",
    "#simulation_results = [load_run(pathlib.Path.home() / 'testrun4')]\n",
    "simulation_results = [load_run(pathlib.Path('/data/2019-12-04/run_S5.0k-3'))]"
   ]
  },
  {
   "cell_type": "code",
   "execution_count": 166,
   "metadata": {},
   "outputs": [
    {
     "data": {
      "text/plain": [
       "{'trajectory_length': array([9.9999923e-03, 1.0023084e-02, 1.0046151e-02, ..., 9.9540588e+02,\n",
       "        9.9770172e+02, 1.0000000e+03], dtype=float32),\n",
       " 'mutual_information': array([0.04723625, 0.04723676, 0.04723673, ..., 1.8603995 , 1.86391191,\n",
       "        1.86758248]),\n",
       " 'conditional_entropy': array([ 3.86088177e-02,  3.71012272e-02,  3.53633598e-02, ...,\n",
       "        -7.94442187e+04, -7.96271738e+04, -7.98103237e+04]),\n",
       " 'response_entropy': array([ 8.5845441e-02,  8.4338233e-02,  8.2600318e-02, ...,\n",
       "        -7.9442273e+04, -7.9625164e+04, -7.9808812e+04], dtype=float32)}"
      ]
     },
     "execution_count": 166,
     "metadata": {},
     "output_type": "execute_result"
    }
   ],
   "source": [
    "simulation_results[0]['data']"
   ]
  },
  {
   "cell_type": "code",
   "execution_count": 167,
   "metadata": {},
   "outputs": [
    {
     "data": {
      "text/plain": [
       "36000"
      ]
     },
     "execution_count": 167,
     "metadata": {},
     "output_type": "execute_result"
    }
   ],
   "source": [
    "180*200"
   ]
  },
  {
   "cell_type": "code",
   "execution_count": 168,
   "metadata": {},
   "outputs": [],
   "source": [
    "numerical_x = numpy.array([6.10351562e-01, 1.22070312e+00, 2.44140625e+00, 4.88281250e+00,\n",
    "       9.76562500e+00, 1.95312500e+01, 3.90625000e+01, 7.81250000e+01,\n",
    "       1.56250000e+02, 3.12500000e+02, 6.25000000e+02, 1.25000000e+03,\n",
    "       2.50000000e+03])\n",
    "numerical = numpy.array([0.07155042, 0.07221034, 0.07352942, 0.07616464, 0.08142376,\n",
    "       0.09190024, 0.1127109 , 0.15391634, 0.23541893, 0.39725253,\n",
    "       0.72029812, 1.36630923, 2.65833046])"
   ]
  },
  {
   "cell_type": "code",
   "execution_count": 169,
   "metadata": {},
   "outputs": [],
   "source": [
    "numerical_x = numpy.array([  3.2       ,   4.75518173,   7.06617289,  10.50029256,\n",
    "         15.60337477,  23.18652581,  34.45504493,  51.2       ,\n",
    "         76.0829076 , 113.0587662 , 168.00468091, 249.65399638,\n",
    "        370.98441288, 551.2807189 , 819.2       ])\n",
    "numerical = numpy.array([0.16057347, 0.16313811, 0.16753439, 0.17376199, 0.18328551,\n",
    "        0.19683625, 0.21770779, 0.24809272, 0.29384163, 0.36153363,\n",
    "        0.46213797, 0.61138198, 0.83304402, 1.1629737 , 1.65274695])"
   ]
  },
  {
   "cell_type": "code",
   "execution_count": 174,
   "metadata": {},
   "outputs": [
    {
     "data": {
      "image/png": "[encoded data removed]",
      "text/plain": [
       "<Figure size 793.701x510.236 with 1 Axes>"
      ]
     },
     "metadata": {
      "needs_background": "light"
     },
     "output_type": "display_data"
    }
   ],
   "source": [
    "pyplot.plot(numerical_x, numerical, label='numerical')\n",
    "\n",
    "for res in sorted(simulation_results, key=lambda x: x['info']['num_signals']):\n",
    "    pyplot.plot(res['data']['trajectory_length'], res['data']['mutual_information'], label=f\"{res['info']['num_signals']} signals\")\n",
    "\n",
    "\n",
    "pyplot.legend();\n",
    "pyplot.xlim(5,800)\n",
    "pyplot.savefig('signals.pdf')\n",
    "pyplot.xscale('log')\n",
    "pyplot.yscale('log')\n",
    "pyplot.gcf().set_size_inches(28/2.54, 18/2.54);"
   ]
  },
  {
   "cell_type": "code",
   "execution_count": 151,
   "metadata": {},
   "outputs": [
    {
     "data": {
      "text/plain": [
       "(0.0018286439705882352, 0.0018324638096646685)"
      ]
     },
     "execution_count": 151,
     "metadata": {},
     "output_type": "execute_result"
    }
   ],
   "source": [
    "mi = simulation_results[0]['data']['mutual_information']\n",
    "mi_x = simulation_results[0]['data']['trajectory_length']\n",
    "(numerical[-1] - numerical[0]) / (numerical_x[-1] - numerical_x[0]), (mi[-1] - mi[0]) / (mi_x[-1] - mi_x[0])"
   ]
  },
  {
   "cell_type": "code",
   "execution_count": 135,
   "metadata": {},
   "outputs": [
    {
     "data": {
      "text/plain": [
       "0.5481536316269594"
      ]
     },
     "execution_count": 135,
     "metadata": {},
     "output_type": "execute_result"
    }
   ],
   "source": [
    "numpy.log(1/0.0018286439705882352 * 0.003163656010333835)"
   ]
  },
  {
   "cell_type": "code",
   "execution_count": 109,
   "metadata": {},
   "outputs": [
    {
     "data": {
      "text/plain": [
       "(-0.05, 0.05)"
      ]
     },
     "execution_count": 109,
     "metadata": {},
     "output_type": "execute_result"
    },
    {
     "data": {
      "image/png": "[encoded data removed]",
      "text/plain": [
       "<Figure size 432x288 with 1 Axes>"
      ]
     },
     "metadata": {
      "needs_background": "light"
     },
     "output_type": "display_data"
    }
   ],
   "source": [
    "for res in simulation_results:\n",
    "    t = res['data']['trajectory_length']\n",
    "    pyplot.plot(t[1:], numpy.diff(res['data']['mutual_information']) / numpy.diff(t), label=f\"{res['info']['num_signals']} signals\")\n",
    "    #pyplot.plot(t[1:], numpy.diff(res['data']['conditional_entropy']) / numpy.diff(t), label=f\"{res['info']['num_signals']} signals\")\n",
    "\n",
    "pyplot.legend()\n",
    "pyplot.ylim(-0.05,0.05)"
   ]
  },
  {
   "cell_type": "code",
   "execution_count": 108,
   "metadata": {},
   "outputs": [
    {
     "data": {
      "image/png": "[encoded data removed]",
      "text/plain": [
       "<Figure size 432x288 with 1 Axes>"
      ]
     },
     "metadata": {
      "needs_background": "light"
     },
     "output_type": "display_data"
    }
   ],
   "source": [
    "t = simulation_results[0]['data']['trajectory_length']\n",
    "pyplot.plot(numpy.arange(t.size), t);"
   ]
  },
  {
   "cell_type": "code",
   "execution_count": 105,
   "metadata": {},
   "outputs": [
    {
     "ename": "FileNotFoundError",
     "evalue": "[Errno 2] No such file or directory: '/run/user/357100522/gvfs/smb-share:server=sun.amolf.nl,share=tenwolde/home-folder/reinhardt/simruns/2019-11-27/distribution_20k.npy'",
     "output_type": "error",
     "traceback": [
      "\u001b[0;31m---------------------------------------------------------------------------\u001b[0m",
      "\u001b[0;31mFileNotFoundError\u001b[0m                         Traceback (most recent call last)",
      "\u001b[0;32m<ipython-input-105-3809d832ece7>\u001b[0m in \u001b[0;36m<module>\u001b[0;34m\u001b[0m\n\u001b[0;32m----> 1\u001b[0;31m \u001b[0mpoints\u001b[0m \u001b[0;34m=\u001b[0m \u001b[0mnumpy\u001b[0m\u001b[0;34m.\u001b[0m\u001b[0mload\u001b[0m\u001b[0;34m(\u001b[0m\u001b[0msimpath\u001b[0m \u001b[0;34m/\u001b[0m \u001b[0;34m'distribution_20k.npy'\u001b[0m\u001b[0;34m)\u001b[0m\u001b[0;34m\u001b[0m\u001b[0;34m\u001b[0m\u001b[0m\n\u001b[0m\u001b[1;32m      2\u001b[0m \u001b[0mpyplot\u001b[0m\u001b[0;34m.\u001b[0m\u001b[0mscatter\u001b[0m\u001b[0;34m(\u001b[0m\u001b[0mx\u001b[0m\u001b[0;34m=\u001b[0m\u001b[0mpoints\u001b[0m\u001b[0;34m.\u001b[0m\u001b[0mT\u001b[0m\u001b[0;34m[\u001b[0m\u001b[0;36m0\u001b[0m\u001b[0;34m]\u001b[0m\u001b[0;34m,\u001b[0m \u001b[0my\u001b[0m\u001b[0;34m=\u001b[0m\u001b[0mpoints\u001b[0m\u001b[0;34m.\u001b[0m\u001b[0mT\u001b[0m\u001b[0;34m[\u001b[0m\u001b[0;36m1\u001b[0m\u001b[0;34m]\u001b[0m\u001b[0;34m)\u001b[0m\u001b[0;34m\u001b[0m\u001b[0;34m\u001b[0m\u001b[0m\n",
      "\u001b[0;32m~/opt/anaconda3/lib/python3.7/site-packages/numpy/lib/npyio.py\u001b[0m in \u001b[0;36mload\u001b[0;34m(file, mmap_mode, allow_pickle, fix_imports, encoding)\u001b[0m\n\u001b[1;32m    426\u001b[0m         \u001b[0mown_fid\u001b[0m \u001b[0;34m=\u001b[0m \u001b[0;32mFalse\u001b[0m\u001b[0;34m\u001b[0m\u001b[0;34m\u001b[0m\u001b[0m\n\u001b[1;32m    427\u001b[0m     \u001b[0;32melse\u001b[0m\u001b[0;34m:\u001b[0m\u001b[0;34m\u001b[0m\u001b[0;34m\u001b[0m\u001b[0m\n\u001b[0;32m--> 428\u001b[0;31m         \u001b[0mfid\u001b[0m \u001b[0;34m=\u001b[0m \u001b[0mopen\u001b[0m\u001b[0;34m(\u001b[0m\u001b[0mos_fspath\u001b[0m\u001b[0;34m(\u001b[0m\u001b[0mfile\u001b[0m\u001b[0;34m)\u001b[0m\u001b[0;34m,\u001b[0m \u001b[0;34m\"rb\"\u001b[0m\u001b[0;34m)\u001b[0m\u001b[0;34m\u001b[0m\u001b[0;34m\u001b[0m\u001b[0m\n\u001b[0m\u001b[1;32m    429\u001b[0m         \u001b[0mown_fid\u001b[0m \u001b[0;34m=\u001b[0m \u001b[0;32mTrue\u001b[0m\u001b[0;34m\u001b[0m\u001b[0;34m\u001b[0m\u001b[0m\n\u001b[1;32m    430\u001b[0m \u001b[0;34m\u001b[0m\u001b[0m\n",
      "\u001b[0;31mFileNotFoundError\u001b[0m: [Errno 2] No such file or directory: '/run/user/357100522/gvfs/smb-share:server=sun.amolf.nl,share=tenwolde/home-folder/reinhardt/simruns/2019-11-27/distribution_20k.npy'"
     ]
    }
   ],
   "source": [
    "points = numpy.load(simpath / 'distribution_20k.npy')\n",
    "pyplot.scatter(x=points.T[0], y=points.T[1])"
   ]
  },
  {
   "cell_type": "code",
   "execution_count": 65,
   "metadata": {},
   "outputs": [
    {
     "data": {
      "text/plain": [
       "(20000, 2)"
      ]
     },
     "execution_count": 65,
     "metadata": {},
     "output_type": "execute_result"
    }
   ],
   "source": [
    "points.shape"
   ]
  },
  {
   "cell_type": "code",
   "execution_count": 66,
   "metadata": {},
   "outputs": [],
   "source": [
    "from scipy.stats import gaussian_kde\n",
    "\n",
    "joint_estimate = gaussian_kde(points.T)\n",
    "sig_estimate = gaussian_kde(points.T[0])\n",
    "res_estimate = gaussian_kde(points.T[1])"
   ]
  },
  {
   "cell_type": "code",
   "execution_count": 68,
   "metadata": {},
   "outputs": [
    {
     "data": {
      "text/plain": [
       "(0.07244385492911486, 0.3712414643963079)"
      ]
     },
     "execution_count": 68,
     "metadata": {},
     "output_type": "execute_result"
    }
   ],
   "source": [
    "points = joint_estimate.resample(19999)\n",
    "p_zero = joint_estimate.logpdf(points) - sig_estimate.logpdf(points[0]) - res_estimate.logpdf(points[1])\n",
    "numpy.mean(p_zero), numpy.std(p_zero)"
   ]
  },
  {
   "cell_type": "code",
   "execution_count": null,
   "metadata": {},
   "outputs": [],
   "source": []
  }
 ],
 "metadata": {
  "kernelspec": {
   "display_name": "Python 3",
   "language": "python",
   "name": "python3"
  },
  "language_info": {
   "codemirror_mode": {
    "name": "ipython",
    "version": 3
   },
   "file_extension": ".py",
   "mimetype": "text/x-python",
   "name": "python",
   "nbconvert_exporter": "python",
   "pygments_lexer": "ipython3",
   "version": "3.7.4"
  }
 },
 "nbformat": 4,
 "nbformat_minor": 4
}
