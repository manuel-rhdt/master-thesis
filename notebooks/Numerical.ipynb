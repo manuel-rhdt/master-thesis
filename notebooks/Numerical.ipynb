{
 "cells": [
  {
   "cell_type": "code",
   "execution_count": 1,
   "metadata": {},
   "outputs": [],
   "source": [
    "import numpy as np\n",
    "from matplotlib import pyplot\n",
    "from IPython.display import Markdown"
   ]
  },
  {
   "cell_type": "markdown",
   "metadata": {},
   "source": [
    "First we define some parameters for our system"
   ]
  },
  {
   "cell_type": "code",
   "execution_count": 2,
   "metadata": {},
   "outputs": [
    {
     "data": {
      "text/markdown": [
       "\n",
       "We define the following parameters\n",
       "\n",
       "$\\langle s \\rangle = 50.0$\n",
       "\n",
       "$\\langle x \\rangle = 50.0$\n",
       "\n",
       "$\\tau_s = 200.0$\n",
       "\n",
       "$\\tau_x = 180.0$\n",
       "\n",
       "$\\rho \\Delta = 0.036000000000000004$\n"
      ],
      "text/plain": [
       "<IPython.core.display.Markdown object>"
      ]
     },
     "execution_count": 2,
     "metadata": {},
     "output_type": "execute_result"
    }
   ],
   "source": [
    "# mathematica: {{\\[Mu]->0.00331511,\\[Lambda]->0.005,\\[Rho]->1.}}\n",
    "lamda = 0.005\n",
    "kappa = 0.25\n",
    "rho = 0.01\n",
    "mu = 0.01\n",
    "mean_s = kappa / lamda\n",
    "mean_x = mean_s * rho / mu\n",
    "tau_s = 1/lamda\n",
    "tau_x = 1/mu * (1 + rho * mu / (lamda * (lamda + rho + mu)))\n",
    "delta = tau_x/50\n",
    "\n",
    "Markdown(r\"\"\"\n",
    "We define the following parameters\n",
    "\n",
    "$\\langle s \\rangle = {}$\n",
    "\n",
    "$\\langle x \\rangle = {}$\n",
    "\n",
    "$\\tau_s = {}$\n",
    "\n",
    "$\\tau_x = {}$\n",
    "\n",
    "$\\rho \\Delta = {}$\n",
    "\"\"\".format(mean_s, mean_x, tau_s, tau_x, rho * delta))"
   ]
  },
  {
   "cell_type": "code",
   "execution_count": 4,
   "metadata": {},
   "outputs": [
    {
     "data": {
      "text/plain": [
       "180.0"
      ]
     },
     "execution_count": 4,
     "metadata": {},
     "output_type": "execute_result"
    }
   ],
   "source": [
    "tau_x"
   ]
  },
  {
   "cell_type": "markdown",
   "metadata": {},
   "source": [
    "The analytical rate is defined by $R(S,X)=\\frac{\\lambda}{2}\\left[\\sqrt{1+\\rho/\\lambda}-1\\right]$"
   ]
  },
  {
   "cell_type": "code",
   "execution_count": 7,
   "metadata": {},
   "outputs": [
    {
     "data": {
      "text/markdown": [
       "$R(S,X) = 0.001830127018922193$"
      ],
      "text/plain": [
       "<IPython.core.display.Markdown object>"
      ]
     },
     "execution_count": 7,
     "metadata": {},
     "output_type": "execute_result"
    }
   ],
   "source": [
    "analytical_rate = lambda rho, lamda: lamda/2 * (np.sqrt(1 + rho/lamda) - 1)\n",
    "Markdown(\"$R(S,X) = {}$\".format(analytical_rate(rho, lamda)))"
   ]
  },
  {
   "cell_type": "code",
   "execution_count": 3,
   "metadata": {},
   "outputs": [],
   "source": [
    "def sigma_ss(rho, mu, lamda, kappa):\n",
    "    return kappa / lamda\n",
    "\n",
    "def sigma_xs(rho, mu, lamda, kappa):\n",
    "    return sigma_ss(rho, mu, lamda, kappa) / (lamda + mu)\n",
    "\n",
    "def sigma_xx(rho, mu, lamda, kappa):\n",
    "    return kappa / lamda * rho / mu * (1 + rho / (lamda + mu))\n",
    "\n",
    "def corr_ss(t, rho, mu, lamda, kappa):\n",
    "    return kappa / lamda * np.exp(-np.abs(t) * lamda)\n",
    "\n",
    "def corr_xs_pos(t, rho, mu, lamda, kappa):\n",
    "    return rho * kappa / lamda / (lamda + mu) * np.exp(-lamda * t)\n",
    "\n",
    "def corr_sx_pos(t, rho, mu, lamda, kappa):\n",
    "    a = rho * kappa / lamda / (lamda - mu)\n",
    "    b1 = (1 + (lamda - mu)/(lamda + mu))*np.exp(-mu * t)\n",
    "    b2 = - np.exp(-lamda * np.abs(t))\n",
    "    return a * (b1 + b2)\n",
    "\n",
    "def corr_xs(t, rho, mu, lamda, kappa):\n",
    "    return np.where(t >= 0, corr_xs_pos(t, rho, mu, lamda, kappa), corr_sx_pos(-t, rho, mu, lamda, kappa))\n",
    "\n",
    "def corr_sx(t, rho, mu, lamda, kappa):\n",
    "    return np.where(t >= 0, corr_sx_pos(t, rho, mu, lamda, kappa), corr_xs_pos(-t, rho, mu, lamda, kappa))\n",
    "\n",
    "def corr_xx(t, rho, mu, lamda, kappa):\n",
    "    c1 = np.exp(-mu * np.abs(t)) - np.exp(-lamda * np.abs(t))\n",
    "    c2 = np.exp(-mu * np.abs(t))\n",
    "    d1 = rho**2 / (lamda**2 - mu**2) * kappa / lamda\n",
    "    d2 = (1+rho/(lamda+mu)) * kappa / lamda * rho / mu\n",
    "    return (d1*c1 + d2*c2)\n",
    "\n",
    "def corr_z(t, rho, mu, lamda, kappa):\n",
    "    c_ss = corr_ss(t, rho, mu, lamda, kappa)\n",
    "    c_sx = corr_sx(t, rho, mu, lamda, kappa)\n",
    "    c_xs = corr_xs(t, rho, mu, lamda, kappa)\n",
    "    c_xx = corr_xx(t, rho, mu, lamda, kappa)\n",
    "    return np.block([[c_ss, c_xs], [c_sx, c_xx]])\n",
    "\n",
    "def time_matrix(N, delta_t):\n",
    "    time_stamps = np.expand_dims(np.linspace(0, (N-1)*delta_t, N), 0)\n",
    "    return time_stamps - time_stamps.T"
   ]
  },
  {
   "cell_type": "code",
   "execution_count": 4,
   "metadata": {},
   "outputs": [
    {
     "data": {
      "text/plain": [
       "<matplotlib.colorbar.Colorbar at 0x7f9e37bf01d0>"
      ]
     },
     "execution_count": 4,
     "metadata": {},
     "output_type": "execute_result"
    },
    {
     "data": {
      "image/png": "[encoded data removed]",
      "text/plain": [
       "<Figure size 288x288 with 2 Axes>"
      ]
     },
     "metadata": {
      "needs_background": "light"
     },
     "output_type": "display_data"
    }
   ],
   "source": [
    "t = time_matrix(1024, 0.0006103515625)\n",
    "c_ss = corr_ss(t, rho, mu, lamda, kappa)\n",
    "c_sx = corr_sx(t, rho, mu, lamda, kappa)\n",
    "c_xs = corr_xs(t, rho, mu, lamda, kappa)\n",
    "c_xx = corr_xx(t, rho, mu, lamda, kappa)\n",
    "c_z = corr_z(t, rho, mu, lamda, kappa)\n",
    "pyplot.matshow(c_z, interpolation='bicubic')\n",
    "pyplot.colorbar()"
   ]
  },
  {
   "cell_type": "code",
   "execution_count": 6,
   "metadata": {},
   "outputs": [],
   "source": [
    "# from https://blogs.sas.com/content/iml/2012/10/31/compute-the-log-determinant-of-a-matrix.html\n",
    "def logdet_symmetric(matrix):\n",
    "    lower_triangular = np.linalg.cholesky(matrix)\n",
    "    return 2 * np.sum(np.log(np.diag(lower_triangular)))"
   ]
  },
  {
   "cell_type": "code",
   "execution_count": 7,
   "metadata": {},
   "outputs": [],
   "source": [
    "def mutual_information_from_matrix(t, rho, mu, lamda, kappa):\n",
    "    c_ss = corr_ss(t, rho, mu, lamda, kappa)\n",
    "    c_xx = corr_xx(t, rho, mu, lamda, kappa)\n",
    "    z = corr_z(t, rho, mu,  lamda, kappa)\n",
    "    \n",
    "    det_c_ss = logdet_symmetric(c_ss)\n",
    "    det_c_xx = logdet_symmetric(c_xx)    \n",
    "    det_z = logdet_symmetric(z)\n",
    "    \n",
    "    return 0.5 * (det_c_ss + det_c_xx - det_z)\n",
    "\n",
    "def conditional_entropy_from_matrix(t, rho, mu, lamda, kappa):\n",
    "    c_ss = corr_ss(t, rho, mu, lamda, kappa)\n",
    "    z = corr_z(t, rho, mu,  lamda, kappa)\n",
    "    \n",
    "    det_c_ss = logdet_symmetric(c_ss)\n",
    "    n = c_ss.shape[0]\n",
    "    det_z = logdet_symmetric(z)\n",
    "        \n",
    "    return 0.5 * (det_z - det_c_ss + n*np.log(2*np.pi*np.e))"
   ]
  },
  {
   "cell_type": "code",
   "execution_count": 8,
   "metadata": {},
   "outputs": [],
   "source": [
    "def mutual_information_(N, delta_t, rho, mu, lamda, kappa):\n",
    "    t = time_matrix(N, delta_t)\n",
    "    return mutual_information_from_matrix(t, rho, mu, lamda, kappa)\n",
    "\n",
    "def conditional_entropy_(N, delta_t, rho, mu, lamda, kappa):\n",
    "    t = time_matrix(N, delta_t)\n",
    "    return conditional_entropy_from_matrix(t, rho, mu, lamda, kappa)\n",
    "\n",
    "mutual_information = np.vectorize(mutual_information_)\n",
    "conditional_entropy = np.vectorize(conditional_entropy_)"
   ]
  },
  {
   "cell_type": "code",
   "execution_count": 9,
   "metadata": {},
   "outputs": [],
   "source": [
    "# mathematica: {{\\[Mu]->0.00331511,\\[Lambda]->0.005,\\[Rho]->1.}}\n",
    "# lamda = 0.005\n",
    "# kappa = lamda*40\n",
    "# rho = 1.0\n",
    "# mu = 0.00331511\n",
    "# mean_s = kappa / lamda\n",
    "# mean_x = mean_s * rho / mu\n",
    "# tau_s = 1/lamda\n",
    "# tau_x = 1/mu * (1 + rho * mu / (lamda * (lamda + rho + mu)))\n",
    "# delta = tau_x/50.0\n",
    "\n",
    "# N = 2**np.arange(0,12)\n",
    "# pyplot.scatter(N, mutual_information(N, delta, rho, mu, lamda, kappa));\n",
    "# pyplot.plot(N, analytical_rate(rho, lamda) * N * delta)\n",
    "# pyplot.xscale('log')\n",
    "# pyplot.yscale('log')\n",
    "# pyplot.xlabel('$N$')\n",
    "# N"
   ]
  },
  {
   "cell_type": "code",
   "execution_count": 99,
   "metadata": {},
   "outputs": [
    {
     "data": {
      "image/png": "[encoded data removed]",
      "text/plain": [
       "<Figure size 432x288 with 1 Axes>"
      ]
     },
     "metadata": {
      "needs_background": "light"
     },
     "output_type": "display_data"
    }
   ],
   "source": [
    "T = 20\n",
    "\n",
    "N = 2**np.arange(0,13)\n",
    "delta_arr = T/N\n",
    "\n",
    "for lamda in [15,10,5,3,1,0.5,0.1]:\n",
    "    rho = 15\n",
    "    mu = 1.5\n",
    "    kappa = lamda\n",
    "    pyplot.plot(delta_arr / T, mutual_information(N, delta_arr, rho, mu, lamda, kappa) / (T * analytical_rate(rho, lamda)))\n",
    "pyplot.xscale('log')"
   ]
  },
  {
   "cell_type": "code",
   "execution_count": 100,
   "metadata": {},
   "outputs": [
    {
     "data": {
      "text/plain": [
       "0.5644102863722255"
      ]
     },
     "execution_count": 100,
     "metadata": {},
     "output_type": "execute_result"
    }
   ],
   "source": [
    "analytical_rate(rho, lamda)"
   ]
  },
  {
   "cell_type": "markdown",
   "metadata": {},
   "source": [
    "# Simulation values"
   ]
  },
  {
   "cell_type": "code",
   "execution_count": 9,
   "metadata": {},
   "outputs": [],
   "source": [
    "from pathlib import Path\n",
    "sim_result= np.load(Path.home() / 'testrun' / 'mutual_information.npz')"
   ]
  },
  {
   "cell_type": "code",
   "execution_count": 10,
   "metadata": {},
   "outputs": [
    {
     "data": {
      "text/plain": [
       "(array([9.9999998e-03, 1.0023057e-02, 1.0046167e-02, ..., 9.9540448e+02,\n",
       "        9.9769958e+02, 1.0000000e+03], dtype=float32),\n",
       " array([   6.8570583 ,    6.8570583 ,    6.8570583 , ..., 1690.98030505,\n",
       "        1694.89602494, 1698.83581262]))"
      ]
     },
     "execution_count": 10,
     "metadata": {},
     "output_type": "execute_result"
    }
   ],
   "source": [
    "sim_l = sim_result['trajectory_length'][0]\n",
    "sim_ce = np.mean(sim_result['conditional_entropy'], axis=0)\n",
    "sim_l, sim_ce"
   ]
  },
  {
   "cell_type": "code",
   "execution_count": 11,
   "metadata": {},
   "outputs": [
    {
     "data": {
      "image/png": "[encoded data removed]",
      "text/plain": [
       "<Figure size 432x288 with 1 Axes>"
      ]
     },
     "metadata": {
      "needs_background": "light"
     },
     "output_type": "display_data"
    }
   ],
   "source": [
    "pyplot.plot(sim_l, sim_ce)\n",
    "pyplot.plot(np.geomspace(1e-2,1e3,1000),  - 79.82 * np.geomspace(1e-2,1e3,1000))\n",
    "pyplot.yscale('symlog', linthreshy=0.5)\n",
    "pyplot.xscale('log')"
   ]
  },
  {
   "cell_type": "code",
   "execution_count": 36,
   "metadata": {},
   "outputs": [
    {
     "data": {
      "text/plain": [
       "(200.0, 180.0)"
      ]
     },
     "execution_count": 36,
     "metadata": {},
     "output_type": "execute_result"
    }
   ],
   "source": [
    "# applied to sim\n",
    "delta = np.array([[0.0005], [0.001], [0.005], [0.025], [0.035]])\n",
    "T = np.geomspace(delta[:,0] * 2**4, delta[:,0] * 2**12, 8).T\n",
    "N = (T / delta).astype(np.int32)\n",
    "\n",
    "tau_s, tau_x"
   ]
  },
  {
   "cell_type": "code",
   "execution_count": 33,
   "metadata": {},
   "outputs": [],
   "source": [
    "num_l = N * delta\n",
    "num_ce = conditional_entropy(N, delta, rho, mu, lamda, kappa)"
   ]
  },
  {
   "cell_type": "code",
   "execution_count": 34,
   "metadata": {},
   "outputs": [
    {
     "data": {
      "text/plain": [
       "(array([[8.00000e-03, 1.75000e-02, 3.90000e-02, 8.60000e-02, 1.90000e-01,\n",
       "         4.20000e-01, 9.27000e-01, 2.04800e+00],\n",
       "        [1.60000e-02, 3.50000e-02, 7.80000e-02, 1.72000e-01, 3.80000e-01,\n",
       "         8.40000e-01, 1.85400e+00, 4.09600e+00],\n",
       "        [7.50000e-02, 1.75000e-01, 3.90000e-01, 8.60000e-01, 1.90000e+00,\n",
       "         4.20000e+00, 9.27000e+00, 2.04800e+01],\n",
       "        [4.00000e-01, 8.75000e-01, 1.95000e+00, 4.30000e+00, 9.50000e+00,\n",
       "         2.10000e+01, 4.63500e+01, 1.02400e+02],\n",
       "        [5.60000e-01, 1.22500e+00, 2.73000e+00, 6.02000e+00, 1.33000e+01,\n",
       "         2.94000e+01, 6.48900e+01, 1.43325e+02]]),\n",
       " array([[-3.22474426e+01, -7.74962313e+01, -1.79901385e+02,\n",
       "         -4.03763813e+02, -8.99118974e+02, -1.99461596e+03,\n",
       "         -4.40947237e+03, -9.74882944e+03],\n",
       "        [-2.70488762e+01, -6.57128142e+01, -1.53215411e+02,\n",
       "         -3.44500157e+02, -7.67768531e+02, -1.70384282e+03,\n",
       "         -3.76727614e+03, -8.32962083e+03],\n",
       "        [-1.37481467e+01, -3.83530497e+01, -9.12535912e+01,\n",
       "         -2.06896635e+02, -4.62787626e+02, -1.02870040e+03,\n",
       "         -2.27616898e+03, -5.03437860e+03],\n",
       "        [-2.90910743e+00, -1.09960050e+01, -2.92979310e+01,\n",
       "         -6.93067927e+01, -1.57837040e+02, -3.53625086e+02,\n",
       "         -7.85210040e+02, -1.73946395e+03],\n",
       "        [-3.86315558e-01, -5.27767675e+00, -1.63475995e+01,\n",
       "         -4.05469654e+01, -9.40944984e+01, -2.12516927e+02,\n",
       "         -4.73561151e+02, -1.05048433e+03]]),\n",
       " array([[0.0005],\n",
       "        [0.001 ],\n",
       "        [0.005 ],\n",
       "        [0.025 ],\n",
       "        [0.035 ]]))"
      ]
     },
     "execution_count": 34,
     "metadata": {},
     "output_type": "execute_result"
    }
   ],
   "source": [
    "num_l, num_ce, delta"
   ]
  },
  {
   "cell_type": "code",
   "execution_count": 12,
   "metadata": {},
   "outputs": [
    {
     "data": {
      "text/plain": [
       "(array([  3.2       ,   4.75518173,   7.06617289,  10.50029256,\n",
       "         15.60337477,  23.18652581,  34.45504493,  51.2       ,\n",
       "         76.0829076 , 113.0587662 , 168.00468091, 249.65399638,\n",
       "        370.98441288, 551.2807189 , 819.2       ]),\n",
       " array([0.16057347, 0.16313811, 0.16753439, 0.17376199, 0.18328551,\n",
       "        0.19683625, 0.21770779, 0.24809272, 0.29384163, 0.36153363,\n",
       "        0.46213797, 0.61138198, 0.83304402, 1.1629737 , 1.65274695]))"
      ]
     },
     "execution_count": 12,
     "metadata": {},
     "output_type": "execute_result"
    }
   ],
   "source": [
    "delta = np.array([0.2])\n",
    "T = np.geomspace(delta[0] * 2**4, delta[0] * 2**12, 15).T\n",
    "N = (T / delta).astype(np.int32)\n",
    "\n",
    "T, mutual_information(N, delta, rho, mu, lamda, kappa)"
   ]
  },
  {
   "cell_type": "code",
   "execution_count": 16,
   "metadata": {},
   "outputs": [
    {
     "data": {
      "text/plain": [
       "(200.0, 180.0, array([[0.0005],\n",
       "        [0.001 ],\n",
       "        [0.005 ],\n",
       "        [0.025 ],\n",
       "        [0.035 ]]))"
      ]
     },
     "execution_count": 16,
     "metadata": {},
     "output_type": "execute_result"
    },
    {
     "data": {
      "image/png": "[encoded data removed]",
      "text/plain": [
       "<Figure size 793.701x510.236 with 1 Axes>"
      ]
     },
     "metadata": {
      "needs_background": "light"
     },
     "output_type": "display_data"
    }
   ],
   "source": [
    "for i, dt in enumerate(delta[:,0]):\n",
    "    pyplot.scatter(num_l[i], num_ce[i], label=f\"$\\Delta t = {dt}$\");\n",
    "\n",
    "pyplot.xlabel('$t$')\n",
    "\n",
    "pyplot.plot(sim_l, sim_ce, label='Monte carlo')\n",
    "\n",
    "pyplot.xlim(left=3e-3, right=250)\n",
    "pyplot.xscale('log')\n",
    "pyplot.yscale('symlog', linthreshy=1)\n",
    "pyplot.ylim(-5000, 5000)\n",
    "pyplot.legend()\n",
    "pyplot.ylabel('$H(X|S)$')\n",
    "pyplot.gcf().set_size_inches(28/2.54, 18/2.54)\n",
    "#pyplot.savefig('H(X|S).pdf')\n",
    "tau_s, tau_x, delta"
   ]
  },
  {
   "cell_type": "code",
   "execution_count": 14,
   "metadata": {},
   "outputs": [
    {
     "data": {
      "text/plain": [
       "array([2.44140625e-06, 5.55626447e-06, 1.26452019e-05, 2.87785311e-05,\n",
       "       6.54955028e-05, 1.49057673e-04, 3.39232298e-04, 7.72040444e-04,\n",
       "       1.75704510e-03, 3.99876393e-03, 9.10057061e-03, 2.07114965e-02,\n",
       "       4.71361750e-02, 1.07274672e-01, 2.44140625e-01])"
      ]
     },
     "execution_count": 14,
     "metadata": {},
     "output_type": "execute_result"
    }
   ],
   "source": [
    "1000/2**15"
   ]
  },
  {
   "cell_type": "code",
   "execution_count": null,
   "metadata": {},
   "outputs": [],
   "source": []
  },
  {
   "cell_type": "code",
   "execution_count": 11,
   "metadata": {},
   "outputs": [
    {
     "data": {
      "text/plain": [
       "array([0.02795804, 0.027947  , 0.027947  , ..., 1.87747799, 1.87922936,\n",
       "       1.8806545 ])"
      ]
     },
     "execution_count": 11,
     "metadata": {},
     "output_type": "execute_result"
    }
   ],
   "source": [
    "np.mean(sim_result['mutual_information'], axis=0)"
   ]
  },
  {
   "cell_type": "code",
   "execution_count": 3,
   "metadata": {},
   "outputs": [],
   "source": [
    "file = np.load('/home/ipausers/reinhardt/test_signal.npz')\n",
    "cd = file['conditional_distribution']\n",
    "t = file['timestamps']\n",
    "c = file['components']"
   ]
  },
  {
   "cell_type": "code",
   "execution_count": 22,
   "metadata": {},
   "outputs": [
    {
     "data": {
      "text/plain": [
       "3.9304326"
      ]
     },
     "execution_count": 22,
     "metadata": {},
     "output_type": "execute_result"
    }
   ],
   "source": [
    "np.diff(t[6]).var()"
   ]
  },
  {
   "cell_type": "code",
   "execution_count": 41,
   "metadata": {},
   "outputs": [
    {
     "data": {
      "image/png": "[encoded data removed]",
      "text/plain": [
       "<Figure size 432x288 with 1 Axes>"
      ]
     },
     "metadata": {
      "needs_background": "light"
     },
     "output_type": "display_data"
    }
   ],
   "source": [
    "for i in range(5):\n",
    "    pyplot.hist(cd[i], bins='auto', histtype='stepfilled')"
   ]
  },
  {
   "cell_type": "code",
   "execution_count": 25,
   "metadata": {},
   "outputs": [
    {
     "data": {
      "text/plain": [
       "(500, 250, 1)"
      ]
     },
     "execution_count": 25,
     "metadata": {},
     "output_type": "execute_result"
    }
   ],
   "source": [
    "cd.shape"
   ]
  },
  {
   "cell_type": "code",
   "execution_count": 26,
   "metadata": {
    "collapsed": true,
    "jupyter": {
     "outputs_hidden": true
    }
   },
   "outputs": [
    {
     "data": {
      "text/plain": [
       "array([[53.],\n",
       "       [59.],\n",
       "       [43.],\n",
       "       [57.],\n",
       "       [58.],\n",
       "       [59.],\n",
       "       [67.],\n",
       "       [53.],\n",
       "       [58.],\n",
       "       [50.],\n",
       "       [65.],\n",
       "       [66.],\n",
       "       [45.],\n",
       "       [53.],\n",
       "       [58.],\n",
       "       [43.],\n",
       "       [58.],\n",
       "       [64.],\n",
       "       [68.],\n",
       "       [55.],\n",
       "       [50.],\n",
       "       [47.],\n",
       "       [78.],\n",
       "       [75.],\n",
       "       [72.],\n",
       "       [53.],\n",
       "       [54.],\n",
       "       [41.],\n",
       "       [72.],\n",
       "       [54.],\n",
       "       [43.],\n",
       "       [65.],\n",
       "       [55.],\n",
       "       [56.],\n",
       "       [59.],\n",
       "       [45.],\n",
       "       [56.],\n",
       "       [73.],\n",
       "       [67.],\n",
       "       [75.],\n",
       "       [48.],\n",
       "       [59.],\n",
       "       [53.],\n",
       "       [50.],\n",
       "       [65.],\n",
       "       [65.],\n",
       "       [57.],\n",
       "       [69.],\n",
       "       [61.],\n",
       "       [46.],\n",
       "       [60.],\n",
       "       [61.],\n",
       "       [63.],\n",
       "       [57.],\n",
       "       [56.],\n",
       "       [66.],\n",
       "       [54.],\n",
       "       [51.],\n",
       "       [52.],\n",
       "       [52.],\n",
       "       [63.],\n",
       "       [55.],\n",
       "       [60.],\n",
       "       [58.],\n",
       "       [58.],\n",
       "       [57.],\n",
       "       [70.],\n",
       "       [54.],\n",
       "       [50.],\n",
       "       [63.],\n",
       "       [55.],\n",
       "       [56.],\n",
       "       [57.],\n",
       "       [52.],\n",
       "       [67.],\n",
       "       [71.],\n",
       "       [48.],\n",
       "       [52.],\n",
       "       [66.],\n",
       "       [59.],\n",
       "       [43.],\n",
       "       [55.],\n",
       "       [66.],\n",
       "       [57.],\n",
       "       [68.],\n",
       "       [48.],\n",
       "       [56.],\n",
       "       [41.],\n",
       "       [62.],\n",
       "       [63.],\n",
       "       [67.],\n",
       "       [61.],\n",
       "       [64.],\n",
       "       [70.],\n",
       "       [44.],\n",
       "       [59.],\n",
       "       [59.],\n",
       "       [54.],\n",
       "       [61.],\n",
       "       [81.],\n",
       "       [67.],\n",
       "       [66.],\n",
       "       [55.],\n",
       "       [55.],\n",
       "       [63.],\n",
       "       [70.],\n",
       "       [57.],\n",
       "       [62.],\n",
       "       [51.],\n",
       "       [58.],\n",
       "       [54.],\n",
       "       [58.],\n",
       "       [47.],\n",
       "       [71.],\n",
       "       [63.],\n",
       "       [67.],\n",
       "       [46.],\n",
       "       [55.],\n",
       "       [44.],\n",
       "       [65.],\n",
       "       [69.],\n",
       "       [58.],\n",
       "       [51.],\n",
       "       [57.],\n",
       "       [37.],\n",
       "       [68.],\n",
       "       [58.],\n",
       "       [51.],\n",
       "       [47.],\n",
       "       [58.],\n",
       "       [68.],\n",
       "       [53.],\n",
       "       [61.],\n",
       "       [50.],\n",
       "       [49.],\n",
       "       [63.],\n",
       "       [58.],\n",
       "       [66.],\n",
       "       [63.],\n",
       "       [52.],\n",
       "       [49.],\n",
       "       [68.],\n",
       "       [66.],\n",
       "       [56.],\n",
       "       [53.],\n",
       "       [65.],\n",
       "       [56.],\n",
       "       [54.],\n",
       "       [66.],\n",
       "       [46.],\n",
       "       [51.],\n",
       "       [59.],\n",
       "       [61.],\n",
       "       [62.],\n",
       "       [48.],\n",
       "       [63.],\n",
       "       [58.],\n",
       "       [54.],\n",
       "       [49.],\n",
       "       [62.],\n",
       "       [68.],\n",
       "       [65.],\n",
       "       [62.],\n",
       "       [49.],\n",
       "       [57.],\n",
       "       [62.],\n",
       "       [49.],\n",
       "       [65.],\n",
       "       [67.],\n",
       "       [79.],\n",
       "       [60.],\n",
       "       [45.],\n",
       "       [43.],\n",
       "       [61.],\n",
       "       [46.],\n",
       "       [58.],\n",
       "       [45.],\n",
       "       [57.],\n",
       "       [55.],\n",
       "       [58.],\n",
       "       [57.],\n",
       "       [51.],\n",
       "       [52.],\n",
       "       [49.],\n",
       "       [52.],\n",
       "       [67.],\n",
       "       [50.],\n",
       "       [69.],\n",
       "       [57.],\n",
       "       [66.],\n",
       "       [58.],\n",
       "       [54.],\n",
       "       [55.],\n",
       "       [63.],\n",
       "       [59.],\n",
       "       [54.],\n",
       "       [53.],\n",
       "       [54.],\n",
       "       [51.],\n",
       "       [54.],\n",
       "       [45.],\n",
       "       [51.],\n",
       "       [61.],\n",
       "       [62.],\n",
       "       [52.],\n",
       "       [83.],\n",
       "       [59.],\n",
       "       [56.],\n",
       "       [45.],\n",
       "       [40.],\n",
       "       [58.],\n",
       "       [52.],\n",
       "       [61.],\n",
       "       [44.],\n",
       "       [53.],\n",
       "       [68.],\n",
       "       [64.],\n",
       "       [39.],\n",
       "       [73.],\n",
       "       [44.],\n",
       "       [65.],\n",
       "       [56.],\n",
       "       [48.],\n",
       "       [52.],\n",
       "       [67.],\n",
       "       [56.],\n",
       "       [45.],\n",
       "       [50.],\n",
       "       [44.],\n",
       "       [66.],\n",
       "       [56.],\n",
       "       [53.],\n",
       "       [57.],\n",
       "       [60.],\n",
       "       [60.],\n",
       "       [61.],\n",
       "       [66.],\n",
       "       [48.],\n",
       "       [54.],\n",
       "       [54.],\n",
       "       [59.],\n",
       "       [76.],\n",
       "       [59.],\n",
       "       [57.],\n",
       "       [48.],\n",
       "       [62.],\n",
       "       [64.],\n",
       "       [58.],\n",
       "       [60.],\n",
       "       [61.]])"
      ]
     },
     "execution_count": 26,
     "metadata": {},
     "output_type": "execute_result"
    }
   ],
   "source": [
    "cd[0]"
   ]
  },
  {
   "cell_type": "code",
   "execution_count": null,
   "metadata": {},
   "outputs": [],
   "source": []
  }
 ],
 "metadata": {
  "kernelspec": {
   "display_name": "Python 3",
   "language": "python",
   "name": "python3"
  },
  "language_info": {
   "codemirror_mode": {
    "name": "ipython",
    "version": 3
   },
   "file_extension": ".py",
   "mimetype": "text/x-python",
   "name": "python",
   "nbconvert_exporter": "python",
   "pygments_lexer": "ipython3",
   "version": "3.7.6"
  }
 },
 "nbformat": 4,
 "nbformat_minor": 4
}
