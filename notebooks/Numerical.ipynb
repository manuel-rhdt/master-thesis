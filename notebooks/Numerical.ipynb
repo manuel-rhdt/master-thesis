{
 "cells": [
  {
   "cell_type": "code",
   "execution_count": 1,
   "metadata": {},
   "outputs": [],
   "source": [
    "import numpy as np\n",
    "from matplotlib import pyplot\n",
    "from IPython.display import Markdown"
   ]
  },
  {
   "cell_type": "markdown",
   "metadata": {},
   "source": [
    "First we define some parameters for our system"
   ]
  },
  {
   "cell_type": "code",
   "execution_count": 2,
   "metadata": {},
   "outputs": [
    {
     "data": {
      "text/markdown": [
       "\n",
       "We define the following parameters\n",
       "\n",
       "$\\langle s \\rangle = 40.0$\n",
       "\n",
       "$\\langle x \\rangle = 12065.964628624692$\n",
       "\n",
       "$\\tau_s / \\Delta = 20.00000768433904$\n",
       "\n",
       "$\\tau_x / \\Delta = 50.0$\n",
       "\n",
       "$\\rho \\Delta = 9.999996157831957$\n"
      ],
      "text/plain": [
       "<IPython.core.display.Markdown object>"
      ]
     },
     "execution_count": 2,
     "metadata": {},
     "output_type": "execute_result"
    }
   ],
   "source": [
    "# mathematica: {{\\[Mu]->0.00331511,\\[Lambda]->0.005,\\[Rho]->1.}}\n",
    "lamda = 0.005\n",
    "kappa = lamda*40\n",
    "rho = 1.0\n",
    "mu = 0.00331511\n",
    "mean_s = kappa / lamda\n",
    "mean_x = mean_s * rho / mu\n",
    "tau_s = 1/lamda\n",
    "tau_x = 1/mu * (1 + rho * mu / (lamda * (lamda + rho + mu)))\n",
    "delta = tau_x/50\n",
    "\n",
    "Markdown(r\"\"\"\n",
    "We define the following parameters\n",
    "\n",
    "$\\langle s \\rangle = {}$\n",
    "\n",
    "$\\langle x \\rangle = {}$\n",
    "\n",
    "$\\tau_s / \\Delta = {}$\n",
    "\n",
    "$\\tau_x / \\Delta = {}$\n",
    "\n",
    "$\\rho \\Delta = {}$\n",
    "\"\"\".format(mean_s, mean_x, tau_s / delta, tau_x / delta, rho * delta))"
   ]
  },
  {
   "cell_type": "markdown",
   "metadata": {},
   "source": [
    "The analytical rate is defined by $R(S,X)=\\frac{\\lambda}{2}\\left[\\sqrt{1+\\rho/\\lambda}-1\\right]$"
   ]
  },
  {
   "cell_type": "code",
   "execution_count": 3,
   "metadata": {},
   "outputs": [
    {
     "data": {
      "text/markdown": [
       "$R(S,X) = 0.032943617196894565$"
      ],
      "text/plain": [
       "<IPython.core.display.Markdown object>"
      ]
     },
     "execution_count": 3,
     "metadata": {},
     "output_type": "execute_result"
    }
   ],
   "source": [
    "analytical_rate = lambda rho, lamda: lamda/2 * (np.sqrt(1 + rho/lamda) - 1)\n",
    "Markdown(\"$R(S,X) = {}$\".format(analytical_rate(rho, lamda)))"
   ]
  },
  {
   "cell_type": "code",
   "execution_count": 4,
   "metadata": {},
   "outputs": [],
   "source": [
    "def sigma_ss(rho, mu, lamda, kappa):\n",
    "    return kappa / lamda\n",
    "\n",
    "def sigma_xs(rho, mu, lamda, kappa):\n",
    "    return sigma_ss(rho, mu, lamda, kappa) / (lamda + mu)\n",
    "\n",
    "def sigma_xx(rho, mu, lamda, kappa):\n",
    "    return kappa / lamda * rho / mu * (1 + rho / (lamda + mu))\n",
    "\n",
    "def corr_ss(t, rho, mu, lamda, kappa):\n",
    "    return kappa / lamda * np.exp(-np.abs(t) * lamda)\n",
    "\n",
    "def corr_xs_pos(t, rho, mu, lamda, kappa):\n",
    "    return rho * kappa / lamda / (lamda + mu) * np.exp(-lamda * t)\n",
    "\n",
    "def corr_sx_pos(t, rho, mu, lamda, kappa):\n",
    "    a = rho * kappa / lamda / (lamda - mu)\n",
    "    b1 = (1 + (lamda - mu)/(lamda + mu))*np.exp(-mu * t)\n",
    "    b2 = - np.exp(-lamda * np.abs(t))\n",
    "    return a * (b1 + b2)\n",
    "\n",
    "def corr_xs(t, rho, mu, lamda, kappa):\n",
    "    return np.where(t >= 0, corr_xs_pos(t, rho, mu, lamda, kappa), corr_sx_pos(-t, rho, mu, lamda, kappa))\n",
    "\n",
    "def corr_sx(t, rho, mu, lamda, kappa):\n",
    "    return np.where(t >= 0, corr_sx_pos(t, rho, mu, lamda, kappa), corr_xs_pos(-t, rho, mu, lamda, kappa))\n",
    "\n",
    "def corr_xx(t, rho, mu, lamda, kappa):\n",
    "    c1 = np.exp(-mu * np.abs(t)) - np.exp(-lamda * np.abs(t))\n",
    "    c2 = np.exp(-mu * np.abs(t))\n",
    "    d1 = rho**2 / (lamda**2 - mu**2) * kappa / lamda\n",
    "    d2 = (1+rho/(lamda+mu)) * kappa / lamda * rho / mu\n",
    "    return (d1*c1 + d2*c2)\n",
    "\n",
    "def corr_z(t, rho, mu, lamda, kappa):\n",
    "    c_ss = corr_ss(t, rho, mu, lamda, kappa)\n",
    "    c_sx = corr_sx(t, rho, mu, lamda, kappa)\n",
    "    c_xs = corr_xs(t, rho, mu, lamda, kappa)\n",
    "    c_xx = corr_xx(t, rho, mu, lamda, kappa)\n",
    "    return np.block([[c_ss, c_xs], [c_sx, c_xx]])\n",
    "\n",
    "def time_matrix(N, delta_t):\n",
    "    time_stamps = np.expand_dims(np.linspace(0, (N-1)*delta_t, N), 0)\n",
    "    return time_stamps - time_stamps.T"
   ]
  },
  {
   "cell_type": "code",
   "execution_count": 5,
   "metadata": {},
   "outputs": [
    {
     "data": {
      "text/plain": [
       "<matplotlib.colorbar.Colorbar at 0x7f5febe1e410>"
      ]
     },
     "execution_count": 5,
     "metadata": {},
     "output_type": "execute_result"
    },
    {
     "data": {
      "image/png": "[encoded data removed]",
      "text/plain": [
       "<Figure size 288x288 with 2 Axes>"
      ]
     },
     "metadata": {
      "needs_background": "light"
     },
     "output_type": "display_data"
    }
   ],
   "source": [
    "t = time_matrix(8192, 0.0006103515625)\n",
    "c_ss = corr_ss(t, rho, mu, lamda, kappa)\n",
    "c_sx = corr_sx(t, rho, mu, lamda, kappa)\n",
    "c_xs = corr_xs(t, rho, mu, lamda, kappa)\n",
    "c_xx = corr_xx(t, rho, mu, lamda, kappa)\n",
    "c_z = corr_z(t, rho, mu, lamda, kappa)\n",
    "pyplot.matshow(c_z, interpolation='bicubic')\n",
    "pyplot.colorbar()"
   ]
  },
  {
   "cell_type": "code",
   "execution_count": 49,
   "metadata": {},
   "outputs": [
    {
     "data": {
      "text/plain": [
       "-30401.60462547142"
      ]
     },
     "execution_count": 49,
     "metadata": {},
     "output_type": "execute_result"
    }
   ],
   "source": [
    "logdet_symmetric(c_ss)"
   ]
  },
  {
   "cell_type": "code",
   "execution_count": 6,
   "metadata": {},
   "outputs": [],
   "source": [
    "# from https://blogs.sas.com/content/iml/2012/10/31/compute-the-log-determinant-of-a-matrix.html\n",
    "def logdet_symmetric(matrix):\n",
    "    lower_triangular = np.linalg.cholesky(matrix)\n",
    "    return 2 * np.sum(np.log(np.diag(lower_triangular)))"
   ]
  },
  {
   "cell_type": "code",
   "execution_count": 7,
   "metadata": {},
   "outputs": [],
   "source": [
    "def mutual_information_from_matrix(t, rho, mu, lamda, kappa):\n",
    "    c_ss = corr_ss(t, rho, mu, lamda, kappa)\n",
    "    c_xx = corr_xx(t, rho, mu, lamda, kappa)\n",
    "    z = corr_z(t, rho, mu,  lamda, kappa)\n",
    "    \n",
    "    det_c_ss = logdet_symmetric(c_ss)\n",
    "    det_c_xx = logdet_symmetric(c_xx)    \n",
    "    det_z = logdet_symmetric(z)\n",
    "    \n",
    "    return 0.5 * (det_c_ss + det_c_xx - det_z)\n",
    "\n",
    "def conditional_entropy_from_matrix(t, rho, mu, lamda, kappa):\n",
    "    c_ss = corr_ss(t, rho, mu, lamda, kappa)\n",
    "    z = corr_z(t, rho, mu,  lamda, kappa)\n",
    "    \n",
    "    det_c_ss = logdet_symmetric(c_ss)\n",
    "    n = c_ss.shape[0]\n",
    "    det_z = logdet_symmetric(z)\n",
    "        \n",
    "    return 0.5 * (det_z - det_c_ss + n*np.log(2*np.pi*np.e))"
   ]
  },
  {
   "cell_type": "code",
   "execution_count": 8,
   "metadata": {},
   "outputs": [],
   "source": [
    "def mutual_information_(N, delta_t, rho, mu, lamda, kappa):\n",
    "    t = time_matrix(N, delta_t)\n",
    "    return mutual_information_from_matrix(t, rho, mu, lamda, kappa)\n",
    "\n",
    "def conditional_entropy_(N, delta_t, rho, mu, lamda, kappa):\n",
    "    t = time_matrix(N, delta_t)\n",
    "    return conditional_entropy_from_matrix(t, rho, mu, lamda, kappa)\n",
    "\n",
    "mutual_information = np.vectorize(mutual_information_)\n",
    "conditional_entropy = np.vectorize(conditional_entropy_)"
   ]
  },
  {
   "cell_type": "code",
   "execution_count": 11,
   "metadata": {},
   "outputs": [
    {
     "data": {
      "text/plain": [
       "array([   1,    2,    4,    8,   16,   32,   64,  128,  256,  512, 1024,\n",
       "       2048])"
      ]
     },
     "execution_count": 11,
     "metadata": {},
     "output_type": "execute_result"
    },
    {
     "data": {
      "image/png": "[encoded data removed]",
      "text/plain": [
       "<Figure size 432x288 with 1 Axes>"
      ]
     },
     "metadata": {
      "needs_background": "light"
     },
     "output_type": "display_data"
    }
   ],
   "source": [
    "# mathematica: {{\\[Mu]->0.00331511,\\[Lambda]->0.005,\\[Rho]->1.}}\n",
    "lamda = 0.005\n",
    "kappa = lamda*40\n",
    "rho = 1.0\n",
    "mu = 0.00331511\n",
    "mean_s = kappa / lamda\n",
    "mean_x = mean_s * rho / mu\n",
    "tau_s = 1/lamda\n",
    "tau_x = 1/mu * (1 + rho * mu / (lamda * (lamda + rho + mu)))\n",
    "delta = tau_x/50.0\n",
    "\n",
    "N = 2**np.arange(0,12)\n",
    "pyplot.scatter(N, mutual_information(N, delta, rho, mu, lamda, kappa));\n",
    "pyplot.plot(N, analytical_rate(rho, lamda) * N * delta)\n",
    "pyplot.xscale('log')\n",
    "pyplot.yscale('log')\n",
    "pyplot.xlabel('$N$')\n",
    "N"
   ]
  },
  {
   "cell_type": "code",
   "execution_count": 99,
   "metadata": {},
   "outputs": [
    {
     "data": {
      "image/png": "[encoded data removed]",
      "text/plain": [
       "<Figure size 432x288 with 1 Axes>"
      ]
     },
     "metadata": {
      "needs_background": "light"
     },
     "output_type": "display_data"
    }
   ],
   "source": [
    "T = 20\n",
    "\n",
    "N = 2**np.arange(0,13)\n",
    "delta_arr = T/N\n",
    "\n",
    "for lamda in [15,10,5,3,1,0.5,0.1]:\n",
    "    rho = 15\n",
    "    mu = 1.5\n",
    "    kappa = lamda\n",
    "    pyplot.plot(delta_arr / T, mutual_information(N, delta_arr, rho, mu, lamda, kappa) / (T * analytical_rate(rho, lamda)))\n",
    "pyplot.xscale('log')"
   ]
  },
  {
   "cell_type": "code",
   "execution_count": 100,
   "metadata": {},
   "outputs": [
    {
     "data": {
      "text/plain": [
       "0.5644102863722255"
      ]
     },
     "execution_count": 100,
     "metadata": {},
     "output_type": "execute_result"
    }
   ],
   "source": [
    "analytical_rate(rho, lamda)"
   ]
  },
  {
   "cell_type": "markdown",
   "metadata": {},
   "source": [
    "# Simulation values"
   ]
  },
  {
   "cell_type": "code",
   "execution_count": 9,
   "metadata": {},
   "outputs": [],
   "source": [
    "from pathlib import Path\n",
    "sim_result= np.load(Path.home() / 'testrun' / 'mutual_information.npz')"
   ]
  },
  {
   "cell_type": "code",
   "execution_count": 10,
   "metadata": {},
   "outputs": [
    {
     "data": {
      "text/plain": [
       "(array([9.9999998e-03, 1.0023057e-02, 1.0046167e-02, ..., 9.9540448e+02,\n",
       "        9.9769958e+02, 1.0000000e+03], dtype=float32),\n",
       " array([ 7.64666224e-02,  7.55157409e-02,  7.30678675e-02, ...,\n",
       "        -7.94560876e+04, -7.96392271e+04, -7.98226348e+04]))"
      ]
     },
     "execution_count": 10,
     "metadata": {},
     "output_type": "execute_result"
    }
   ],
   "source": [
    "sim_l = sim_result['trajectory_length'][0]\n",
    "sim_ce = np.mean(sim_result['conditional_entropy'], axis=0)\n",
    "sim_l, sim_ce"
   ]
  },
  {
   "cell_type": "code",
   "execution_count": 15,
   "metadata": {},
   "outputs": [
    {
     "data": {
      "image/png": "[encoded data removed]",
      "text/plain": [
       "<Figure size 432x288 with 1 Axes>"
      ]
     },
     "metadata": {
      "needs_background": "light"
     },
     "output_type": "display_data"
    }
   ],
   "source": [
    "pyplot.plot(sim_l, sim_ce)\n",
    "pyplot.plot(np.geomspace(1e-2,1e3,1000),  - 79.82 * np.geomspace(1e-2,1e3,1000))\n",
    "pyplot.yscale('symlog', linthreshy=0.5)\n",
    "pyplot.xscale('log')"
   ]
  },
  {
   "cell_type": "code",
   "execution_count": 40,
   "metadata": {},
   "outputs": [
    {
     "name": "stdout",
     "output_type": "stream",
     "text": [
      "T = [[8.00000000e-03 1.76654322e-02 3.90084369e-02 8.61376123e-02\n",
      "  1.90207269e-01 4.20011702e-01 9.27461032e-01 2.04800000e+00]\n",
      " [1.60000000e-02 3.53308644e-02 7.80168739e-02 1.72275225e-01\n",
      "  3.80414538e-01 8.40023405e-01 1.85492206e+00 4.09600000e+00]\n",
      " [8.00000000e-02 1.76654322e-01 3.90084369e-01 8.61376123e-01\n",
      "  1.90207269e+00 4.20011702e+00 9.27461032e+00 2.04800000e+01]\n",
      " [4.00000000e-01 8.83271611e-01 1.95042185e+00 4.30688062e+00\n",
      "  9.51036345e+00 2.10005851e+01 4.63730516e+01 1.02400000e+02]\n",
      " [5.60000000e-01 1.23658026e+00 2.73059059e+00 6.02963286e+00\n",
      "  1.33145088e+01 2.94008192e+01 6.49222723e+01 1.43360000e+02]]\n",
      "N = [[  16   35   78  172  380  840 1854 4096]\n",
      " [  16   35   78  172  380  840 1854 4096]\n",
      " [  15   35   78  172  380  840 1854 4096]\n",
      " [  16   35   78  172  380  840 1854 4096]\n",
      " [  16   35   78  172  380  840 1854 4095]]\n",
      "delta = [[0.0005]\n",
      " [0.001 ]\n",
      " [0.005 ]\n",
      " [0.025 ]\n",
      " [0.035 ]]\n"
     ]
    }
   ],
   "source": [
    "# applied to sim\n",
    "kappa = 20.0\n",
    "lamda = 0.005\n",
    "rho = 0.005\n",
    "mu = 0.02\n",
    "\n",
    "tau_s = 1/lamda\n",
    "tau_x = 1/mu * (1 + rho * mu / (lamda * (lamda + rho + mu)))\n",
    "\n",
    "\n",
    "delta = np.array([[0.0005], [0.001], [0.005], [0.025], [0.035]])\n",
    "T = np.geomspace(delta[:,0] * 2**4, delta[:,0] * 2**12, 8).T\n",
    "N = (T / delta).astype(np.int32)\n",
    "\n",
    "print(f\"T = {T}\\nN = {N}\\ndelta = {delta}\")"
   ]
  },
  {
   "cell_type": "code",
   "execution_count": 41,
   "metadata": {},
   "outputs": [],
   "source": [
    "num_l = N * delta\n",
    "num_ce = conditional_entropy(N, delta, rho, mu, lamda, kappa)"
   ]
  },
  {
   "cell_type": "code",
   "execution_count": 42,
   "metadata": {},
   "outputs": [
    {
     "data": {
      "text/plain": [
       "(array([[8.00000e-03, 1.75000e-02, 3.90000e-02, 8.60000e-02, 1.90000e-01,\n",
       "         4.20000e-01, 9.27000e-01, 2.04800e+00],\n",
       "        [1.60000e-02, 3.50000e-02, 7.80000e-02, 1.72000e-01, 3.80000e-01,\n",
       "         8.40000e-01, 1.85400e+00, 4.09600e+00],\n",
       "        [7.50000e-02, 1.75000e-01, 3.90000e-01, 8.60000e-01, 1.90000e+00,\n",
       "         4.20000e+00, 9.27000e+00, 2.04800e+01],\n",
       "        [4.00000e-01, 8.75000e-01, 1.95000e+00, 4.30000e+00, 9.50000e+00,\n",
       "         2.10000e+01, 4.63500e+01, 1.02400e+02],\n",
       "        [5.60000e-01, 1.22500e+00, 2.73000e+00, 6.02000e+00, 1.33000e+01,\n",
       "         2.94000e+01, 6.48900e+01, 1.43325e+02]]),\n",
       " array([[-3.16374301e+00, -1.33682244e+01, -3.64625771e+01,\n",
       "         -8.69479063e+01, -1.98660124e+02, -4.45715990e+02,\n",
       "         -9.90313051e+02, -2.19444186e+03],\n",
       "        [ 2.03478584e+00, -1.58489236e+00, -9.77679567e+00,\n",
       "         -2.76846773e+01, -6.73106282e+01, -1.54944943e+02,\n",
       "         -3.48121453e+02, -7.75243481e+02],\n",
       "        [ 1.34908006e+01,  2.57741922e+01,  5.21834840e+01,\n",
       "          1.09915424e+02,  2.37662697e+02,  5.20180702e+02,\n",
       "          1.14294865e+03,  2.51991685e+03],\n",
       "        [ 2.61727548e+01,  5.31278374e+01,  1.14131445e+02,\n",
       "          2.47488169e+02,  5.42575389e+02,  1.19517212e+03,\n",
       "          2.63372232e+03,  5.81442206e+03],\n",
       "        [ 2.86947969e+01,  5.88444661e+01,  1.27077928e+02,\n",
       "          2.76239449e+02,  6.06298985e+02,  1.33623834e+03,\n",
       "          2.94527858e+03,  6.50135272e+03]]),\n",
       " array([[0.0005],\n",
       "        [0.001 ],\n",
       "        [0.005 ],\n",
       "        [0.025 ],\n",
       "        [0.035 ]]))"
      ]
     },
     "execution_count": 42,
     "metadata": {},
     "output_type": "execute_result"
    }
   ],
   "source": [
    "num_l, num_ce, delta"
   ]
  },
  {
   "cell_type": "code",
   "execution_count": 58,
   "metadata": {},
   "outputs": [
    {
     "data": {
      "text/plain": [
       "(200.0, 83.33333333333334, array([[0.0005],\n",
       "        [0.001 ],\n",
       "        [0.005 ],\n",
       "        [0.025 ],\n",
       "        [0.035 ]]))"
      ]
     },
     "execution_count": 58,
     "metadata": {},
     "output_type": "execute_result"
    },
    {
     "data": {
      "image/png": "[encoded data removed]",
      "text/plain": [
       "<Figure size 793.701x510.236 with 1 Axes>"
      ]
     },
     "metadata": {
      "needs_background": "light"
     },
     "output_type": "display_data"
    }
   ],
   "source": [
    "for i, dt in enumerate(delta[:,0]):\n",
    "    pyplot.scatter(num_l[i], num_ce[i], label=f\"$\\Delta t = {dt}$\");\n",
    "\n",
    "pyplot.xlabel('$t$')\n",
    "\n",
    "pyplot.plot(sim_l, sim_ce, label='Monte carlo')\n",
    "\n",
    "pyplot.xlim(left=3e-3, right=250)\n",
    "pyplot.xscale('log')\n",
    "pyplot.yscale('symlog', linthreshy=1)\n",
    "pyplot.ylim(-5000, 5000)\n",
    "pyplot.legend()\n",
    "pyplot.ylabel('$H(X|S)$')\n",
    "pyplot.gcf().set_size_inches(28/2.54, 18/2.54)\n",
    "#pyplot.savefig('H(X|S).pdf')\n",
    "tau_s, tau_x, delta"
   ]
  },
  {
   "cell_type": "code",
   "execution_count": 14,
   "metadata": {},
   "outputs": [
    {
     "data": {
      "text/plain": [
       "array([2.44140625e-06, 5.55626447e-06, 1.26452019e-05, 2.87785311e-05,\n",
       "       6.54955028e-05, 1.49057673e-04, 3.39232298e-04, 7.72040444e-04,\n",
       "       1.75704510e-03, 3.99876393e-03, 9.10057061e-03, 2.07114965e-02,\n",
       "       4.71361750e-02, 1.07274672e-01, 2.44140625e-01])"
      ]
     },
     "execution_count": 14,
     "metadata": {},
     "output_type": "execute_result"
    }
   ],
   "source": [
    "1000/2**15"
   ]
  },
  {
   "cell_type": "code",
   "execution_count": null,
   "metadata": {},
   "outputs": [],
   "source": []
  },
  {
   "cell_type": "code",
   "execution_count": null,
   "metadata": {},
   "outputs": [],
   "source": []
  }
 ],
 "metadata": {
  "kernelspec": {
   "display_name": "Python 3",
   "language": "python",
   "name": "python3"
  },
  "language_info": {
   "codemirror_mode": {
    "name": "ipython",
    "version": 3
   },
   "file_extension": ".py",
   "mimetype": "text/x-python",
   "name": "python",
   "nbconvert_exporter": "python",
   "pygments_lexer": "ipython3",
   "version": "3.7.4"
  }
 },
 "nbformat": 4,
 "nbformat_minor": 4
}
