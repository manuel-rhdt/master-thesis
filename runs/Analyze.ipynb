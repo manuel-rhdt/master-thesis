{
 "cells": [
  {
   "cell_type": "code",
   "execution_count": 49,
   "metadata": {},
   "outputs": [
    {
     "data": {
      "text/html": [
       "\n",
       "    <div class=\"bk-root\">\n",
       "        <a href=\"https://bokeh.pydata.org\" target=\"_blank\" class=\"bk-logo bk-logo-small bk-logo-notebook\"></a>\n",
       "        <span id=\"2707\">Loading BokehJS ...</span>\n",
       "    </div>"
      ]
     },
     "metadata": {},
     "output_type": "display_data"
    },
    {
     "data": {
      "application/javascript": [
       "\n",
       "(function(root) {\n",
       "  function now() {\n",
       "    return new Date();\n",
       "  }\n",
       "\n",
       "  var force = true;\n",
       "\n",
       "  if (typeof root._bokeh_onload_callbacks === \"undefined\" || force === true) {\n",
       "    root._bokeh_onload_callbacks = [];\n",
       "    root._bokeh_is_loading = undefined;\n",
       "  }\n",
       "\n",
       "  var JS_MIME_TYPE = 'application/javascript';\n",
       "  var HTML_MIME_TYPE = 'text/html';\n",
       "  var EXEC_MIME_TYPE = 'application/vnd.bokehjs_exec.v0+json';\n",
       "  var CLASS_NAME = 'output_bokeh rendered_html';\n",
       "\n",
       "  /**\n",
       "   * Render data to the DOM node\n",
       "   */\n",
       "  function render(props, node) {\n",
       "    var script = document.createElement(\"script\");\n",
       "    node.appendChild(script);\n",
       "  }\n",
       "\n",
       "  /**\n",
       "   * Handle when an output is cleared or removed\n",
       "   */\n",
       "  function handleClearOutput(event, handle) {\n",
       "    var cell = handle.cell;\n",
       "\n",
       "    var id = cell.output_area._bokeh_element_id;\n",
       "    var server_id = cell.output_area._bokeh_server_id;\n",
       "    // Clean up Bokeh references\n",
       "    if (id != null && id in Bokeh.index) {\n",
       "      Bokeh.index[id].model.document.clear();\n",
       "      delete Bokeh.index[id];\n",
       "    }\n",
       "\n",
       "    if (server_id !== undefined) {\n",
       "      // Clean up Bokeh references\n",
       "      var cmd = \"from bokeh.io.state import curstate; print(curstate().uuid_to_server['\" + server_id + \"'].get_sessions()[0].document.roots[0]._id)\";\n",
       "      cell.notebook.kernel.execute(cmd, {\n",
       "        iopub: {\n",
       "          output: function(msg) {\n",
       "            var id = msg.content.text.trim();\n",
       "            if (id in Bokeh.index) {\n",
       "              Bokeh.index[id].model.document.clear();\n",
       "              delete Bokeh.index[id];\n",
       "            }\n",
       "          }\n",
       "        }\n",
       "      });\n",
       "      // Destroy server and session\n",
       "      var cmd = \"import bokeh.io.notebook as ion; ion.destroy_server('\" + server_id + \"')\";\n",
       "      cell.notebook.kernel.execute(cmd);\n",
       "    }\n",
       "  }\n",
       "\n",
       "  /**\n",
       "   * Handle when a new output is added\n",
       "   */\n",
       "  function handleAddOutput(event, handle) {\n",
       "    var output_area = handle.output_area;\n",
       "    var output = handle.output;\n",
       "\n",
       "    // limit handleAddOutput to display_data with EXEC_MIME_TYPE content only\n",
       "    if ((output.output_type != \"display_data\") || (!output.data.hasOwnProperty(EXEC_MIME_TYPE))) {\n",
       "      return\n",
       "    }\n",
       "\n",
       "    var toinsert = output_area.element.find(\".\" + CLASS_NAME.split(' ')[0]);\n",
       "\n",
       "    if (output.metadata[EXEC_MIME_TYPE][\"id\"] !== undefined) {\n",
       "      toinsert[toinsert.length - 1].firstChild.textContent = output.data[JS_MIME_TYPE];\n",
       "      // store reference to embed id on output_area\n",
       "      output_area._bokeh_element_id = output.metadata[EXEC_MIME_TYPE][\"id\"];\n",
       "    }\n",
       "    if (output.metadata[EXEC_MIME_TYPE][\"server_id\"] !== undefined) {\n",
       "      var bk_div = document.createElement(\"div\");\n",
       "      bk_div.innerHTML = output.data[HTML_MIME_TYPE];\n",
       "      var script_attrs = bk_div.children[0].attributes;\n",
       "      for (var i = 0; i < script_attrs.length; i++) {\n",
       "        toinsert[toinsert.length - 1].firstChild.setAttribute(script_attrs[i].name, script_attrs[i].value);\n",
       "      }\n",
       "      // store reference to server id on output_area\n",
       "      output_area._bokeh_server_id = output.metadata[EXEC_MIME_TYPE][\"server_id\"];\n",
       "    }\n",
       "  }\n",
       "\n",
       "  function register_renderer(events, OutputArea) {\n",
       "\n",
       "    function append_mime(data, metadata, element) {\n",
       "      // create a DOM node to render to\n",
       "      var toinsert = this.create_output_subarea(\n",
       "        metadata,\n",
       "        CLASS_NAME,\n",
       "        EXEC_MIME_TYPE\n",
       "      );\n",
       "      this.keyboard_manager.register_events(toinsert);\n",
       "      // Render to node\n",
       "      var props = {data: data, metadata: metadata[EXEC_MIME_TYPE]};\n",
       "      render(props, toinsert[toinsert.length - 1]);\n",
       "      element.append(toinsert);\n",
       "      return toinsert\n",
       "    }\n",
       "\n",
       "    /* Handle when an output is cleared or removed */\n",
       "    events.on('clear_output.CodeCell', handleClearOutput);\n",
       "    events.on('delete.Cell', handleClearOutput);\n",
       "\n",
       "    /* Handle when a new output is added */\n",
       "    events.on('output_added.OutputArea', handleAddOutput);\n",
       "\n",
       "    /**\n",
       "     * Register the mime type and append_mime function with output_area\n",
       "     */\n",
       "    OutputArea.prototype.register_mime_type(EXEC_MIME_TYPE, append_mime, {\n",
       "      /* Is output safe? */\n",
       "      safe: true,\n",
       "      /* Index of renderer in `output_area.display_order` */\n",
       "      index: 0\n",
       "    });\n",
       "  }\n",
       "\n",
       "  // register the mime type if in Jupyter Notebook environment and previously unregistered\n",
       "  if (root.Jupyter !== undefined) {\n",
       "    var events = require('base/js/events');\n",
       "    var OutputArea = require('notebook/js/outputarea').OutputArea;\n",
       "\n",
       "    if (OutputArea.prototype.mime_types().indexOf(EXEC_MIME_TYPE) == -1) {\n",
       "      register_renderer(events, OutputArea);\n",
       "    }\n",
       "  }\n",
       "\n",
       "  \n",
       "  if (typeof (root._bokeh_timeout) === \"undefined\" || force === true) {\n",
       "    root._bokeh_timeout = Date.now() + 5000;\n",
       "    root._bokeh_failed_load = false;\n",
       "  }\n",
       "\n",
       "  var NB_LOAD_WARNING = {'data': {'text/html':\n",
       "     \"<div style='background-color: #fdd'>\\n\"+\n",
       "     \"<p>\\n\"+\n",
       "     \"BokehJS does not appear to have successfully loaded. If loading BokehJS from CDN, this \\n\"+\n",
       "     \"may be due to a slow or bad network connection. Possible fixes:\\n\"+\n",
       "     \"</p>\\n\"+\n",
       "     \"<ul>\\n\"+\n",
       "     \"<li>re-rerun `output_notebook()` to attempt to load from CDN again, or</li>\\n\"+\n",
       "     \"<li>use INLINE resources instead, as so:</li>\\n\"+\n",
       "     \"</ul>\\n\"+\n",
       "     \"<code>\\n\"+\n",
       "     \"from bokeh.resources import INLINE\\n\"+\n",
       "     \"output_notebook(resources=INLINE)\\n\"+\n",
       "     \"</code>\\n\"+\n",
       "     \"</div>\"}};\n",
       "\n",
       "  function display_loaded() {\n",
       "    var el = document.getElementById(\"2707\");\n",
       "    if (el != null) {\n",
       "      el.textContent = \"BokehJS is loading...\";\n",
       "    }\n",
       "    if (root.Bokeh !== undefined) {\n",
       "      if (el != null) {\n",
       "        el.textContent = \"BokehJS \" + root.Bokeh.version + \" successfully loaded.\";\n",
       "      }\n",
       "    } else if (Date.now() < root._bokeh_timeout) {\n",
       "      setTimeout(display_loaded, 100)\n",
       "    }\n",
       "  }\n",
       "\n",
       "\n",
       "  function run_callbacks() {\n",
       "    try {\n",
       "      root._bokeh_onload_callbacks.forEach(function(callback) {\n",
       "        if (callback != null)\n",
       "          callback();\n",
       "      });\n",
       "    } finally {\n",
       "      delete root._bokeh_onload_callbacks\n",
       "    }\n",
       "    console.debug(\"Bokeh: all callbacks have finished\");\n",
       "  }\n",
       "\n",
       "  function load_libs(css_urls, js_urls, callback) {\n",
       "    if (css_urls == null) css_urls = [];\n",
       "    if (js_urls == null) js_urls = [];\n",
       "\n",
       "    root._bokeh_onload_callbacks.push(callback);\n",
       "    if (root._bokeh_is_loading > 0) {\n",
       "      console.debug(\"Bokeh: BokehJS is being loaded, scheduling callback at\", now());\n",
       "      return null;\n",
       "    }\n",
       "    if (js_urls == null || js_urls.length === 0) {\n",
       "      run_callbacks();\n",
       "      return null;\n",
       "    }\n",
       "    console.debug(\"Bokeh: BokehJS not loaded, scheduling load and callback at\", now());\n",
       "    root._bokeh_is_loading = css_urls.length + js_urls.length;\n",
       "\n",
       "    function on_load() {\n",
       "      root._bokeh_is_loading--;\n",
       "      if (root._bokeh_is_loading === 0) {\n",
       "        console.debug(\"Bokeh: all BokehJS libraries/stylesheets loaded\");\n",
       "        run_callbacks()\n",
       "      }\n",
       "    }\n",
       "\n",
       "    function on_error() {\n",
       "      console.error(\"failed to load \" + url);\n",
       "    }\n",
       "\n",
       "    for (var i = 0; i < css_urls.length; i++) {\n",
       "      var url = css_urls[i];\n",
       "      const element = document.createElement(\"link\");\n",
       "      element.onload = on_load;\n",
       "      element.onerror = on_error;\n",
       "      element.rel = \"stylesheet\";\n",
       "      element.type = \"text/css\";\n",
       "      element.href = url;\n",
       "      console.debug(\"Bokeh: injecting link tag for BokehJS stylesheet: \", url);\n",
       "      document.body.appendChild(element);\n",
       "    }\n",
       "\n",
       "    for (var i = 0; i < js_urls.length; i++) {\n",
       "      var url = js_urls[i];\n",
       "      var element = document.createElement('script');\n",
       "      element.onload = on_load;\n",
       "      element.onerror = on_error;\n",
       "      element.async = false;\n",
       "      element.src = url;\n",
       "      console.debug(\"Bokeh: injecting script tag for BokehJS library: \", url);\n",
       "      document.head.appendChild(element);\n",
       "    }\n",
       "  };var element = document.getElementById(\"2707\");\n",
       "  if (element == null) {\n",
       "    console.error(\"Bokeh: ERROR: autoload.js configured with elementid '2707' but no matching script tag was found. \")\n",
       "    return false;\n",
       "  }\n",
       "\n",
       "  function inject_raw_css(css) {\n",
       "    const element = document.createElement(\"style\");\n",
       "    element.appendChild(document.createTextNode(css));\n",
       "    document.body.appendChild(element);\n",
       "  }\n",
       "\n",
       "  var js_urls = [\"https://cdn.pydata.org/bokeh/release/bokeh-1.3.4.min.js\", \"https://cdn.pydata.org/bokeh/release/bokeh-widgets-1.3.4.min.js\", \"https://cdn.pydata.org/bokeh/release/bokeh-tables-1.3.4.min.js\", \"https://cdn.pydata.org/bokeh/release/bokeh-gl-1.3.4.min.js\"];\n",
       "  var css_urls = [];\n",
       "\n",
       "  var inline_js = [\n",
       "    function(Bokeh) {\n",
       "      Bokeh.set_log_level(\"info\");\n",
       "    },\n",
       "    \n",
       "    function(Bokeh) {\n",
       "      \n",
       "    },\n",
       "    function(Bokeh) {} // ensure no trailing comma for IE\n",
       "  ];\n",
       "\n",
       "  function run_inline_js() {\n",
       "    \n",
       "    if ((root.Bokeh !== undefined) || (force === true)) {\n",
       "      for (var i = 0; i < inline_js.length; i++) {\n",
       "        inline_js[i].call(root, root.Bokeh);\n",
       "      }if (force === true) {\n",
       "        display_loaded();\n",
       "      }} else if (Date.now() < root._bokeh_timeout) {\n",
       "      setTimeout(run_inline_js, 100);\n",
       "    } else if (!root._bokeh_failed_load) {\n",
       "      console.log(\"Bokeh: BokehJS failed to load within specified timeout.\");\n",
       "      root._bokeh_failed_load = true;\n",
       "    } else if (force !== true) {\n",
       "      var cell = $(document.getElementById(\"2707\")).parents('.cell').data().cell;\n",
       "      cell.output_area.append_execute_result(NB_LOAD_WARNING)\n",
       "    }\n",
       "\n",
       "  }\n",
       "\n",
       "  if (root._bokeh_is_loading === 0) {\n",
       "    console.debug(\"Bokeh: BokehJS loaded, going straight to plotting\");\n",
       "    run_inline_js();\n",
       "  } else {\n",
       "    load_libs(css_urls, js_urls, function() {\n",
       "      console.debug(\"Bokeh: BokehJS plotting callback run at\", now());\n",
       "      run_inline_js();\n",
       "    });\n",
       "  }\n",
       "}(window));"
      ],
      "application/vnd.bokehjs_load.v0+json": "\n(function(root) {\n  function now() {\n    return new Date();\n  }\n\n  var force = true;\n\n  if (typeof root._bokeh_onload_callbacks === \"undefined\" || force === true) {\n    root._bokeh_onload_callbacks = [];\n    root._bokeh_is_loading = undefined;\n  }\n\n  \n\n  \n  if (typeof (root._bokeh_timeout) === \"undefined\" || force === true) {\n    root._bokeh_timeout = Date.now() + 5000;\n    root._bokeh_failed_load = false;\n  }\n\n  var NB_LOAD_WARNING = {'data': {'text/html':\n     \"<div style='background-color: #fdd'>\\n\"+\n     \"<p>\\n\"+\n     \"BokehJS does not appear to have successfully loaded. If loading BokehJS from CDN, this \\n\"+\n     \"may be due to a slow or bad network connection. Possible fixes:\\n\"+\n     \"</p>\\n\"+\n     \"<ul>\\n\"+\n     \"<li>re-rerun `output_notebook()` to attempt to load from CDN again, or</li>\\n\"+\n     \"<li>use INLINE resources instead, as so:</li>\\n\"+\n     \"</ul>\\n\"+\n     \"<code>\\n\"+\n     \"from bokeh.resources import INLINE\\n\"+\n     \"output_notebook(resources=INLINE)\\n\"+\n     \"</code>\\n\"+\n     \"</div>\"}};\n\n  function display_loaded() {\n    var el = document.getElementById(\"2707\");\n    if (el != null) {\n      el.textContent = \"BokehJS is loading...\";\n    }\n    if (root.Bokeh !== undefined) {\n      if (el != null) {\n        el.textContent = \"BokehJS \" + root.Bokeh.version + \" successfully loaded.\";\n      }\n    } else if (Date.now() < root._bokeh_timeout) {\n      setTimeout(display_loaded, 100)\n    }\n  }\n\n\n  function run_callbacks() {\n    try {\n      root._bokeh_onload_callbacks.forEach(function(callback) {\n        if (callback != null)\n          callback();\n      });\n    } finally {\n      delete root._bokeh_onload_callbacks\n    }\n    console.debug(\"Bokeh: all callbacks have finished\");\n  }\n\n  function load_libs(css_urls, js_urls, callback) {\n    if (css_urls == null) css_urls = [];\n    if (js_urls == null) js_urls = [];\n\n    root._bokeh_onload_callbacks.push(callback);\n    if (root._bokeh_is_loading > 0) {\n      console.debug(\"Bokeh: BokehJS is being loaded, scheduling callback at\", now());\n      return null;\n    }\n    if (js_urls == null || js_urls.length === 0) {\n      run_callbacks();\n      return null;\n    }\n    console.debug(\"Bokeh: BokehJS not loaded, scheduling load and callback at\", now());\n    root._bokeh_is_loading = css_urls.length + js_urls.length;\n\n    function on_load() {\n      root._bokeh_is_loading--;\n      if (root._bokeh_is_loading === 0) {\n        console.debug(\"Bokeh: all BokehJS libraries/stylesheets loaded\");\n        run_callbacks()\n      }\n    }\n\n    function on_error() {\n      console.error(\"failed to load \" + url);\n    }\n\n    for (var i = 0; i < css_urls.length; i++) {\n      var url = css_urls[i];\n      const element = document.createElement(\"link\");\n      element.onload = on_load;\n      element.onerror = on_error;\n      element.rel = \"stylesheet\";\n      element.type = \"text/css\";\n      element.href = url;\n      console.debug(\"Bokeh: injecting link tag for BokehJS stylesheet: \", url);\n      document.body.appendChild(element);\n    }\n\n    for (var i = 0; i < js_urls.length; i++) {\n      var url = js_urls[i];\n      var element = document.createElement('script');\n      element.onload = on_load;\n      element.onerror = on_error;\n      element.async = false;\n      element.src = url;\n      console.debug(\"Bokeh: injecting script tag for BokehJS library: \", url);\n      document.head.appendChild(element);\n    }\n  };var element = document.getElementById(\"2707\");\n  if (element == null) {\n    console.error(\"Bokeh: ERROR: autoload.js configured with elementid '2707' but no matching script tag was found. \")\n    return false;\n  }\n\n  function inject_raw_css(css) {\n    const element = document.createElement(\"style\");\n    element.appendChild(document.createTextNode(css));\n    document.body.appendChild(element);\n  }\n\n  var js_urls = [\"https://cdn.pydata.org/bokeh/release/bokeh-1.3.4.min.js\", \"https://cdn.pydata.org/bokeh/release/bokeh-widgets-1.3.4.min.js\", \"https://cdn.pydata.org/bokeh/release/bokeh-tables-1.3.4.min.js\", \"https://cdn.pydata.org/bokeh/release/bokeh-gl-1.3.4.min.js\"];\n  var css_urls = [];\n\n  var inline_js = [\n    function(Bokeh) {\n      Bokeh.set_log_level(\"info\");\n    },\n    \n    function(Bokeh) {\n      \n    },\n    function(Bokeh) {} // ensure no trailing comma for IE\n  ];\n\n  function run_inline_js() {\n    \n    if ((root.Bokeh !== undefined) || (force === true)) {\n      for (var i = 0; i < inline_js.length; i++) {\n        inline_js[i].call(root, root.Bokeh);\n      }if (force === true) {\n        display_loaded();\n      }} else if (Date.now() < root._bokeh_timeout) {\n      setTimeout(run_inline_js, 100);\n    } else if (!root._bokeh_failed_load) {\n      console.log(\"Bokeh: BokehJS failed to load within specified timeout.\");\n      root._bokeh_failed_load = true;\n    } else if (force !== true) {\n      var cell = $(document.getElementById(\"2707\")).parents('.cell').data().cell;\n      cell.output_area.append_execute_result(NB_LOAD_WARNING)\n    }\n\n  }\n\n  if (root._bokeh_is_loading === 0) {\n    console.debug(\"Bokeh: BokehJS loaded, going straight to plotting\");\n    run_inline_js();\n  } else {\n    load_libs(css_urls, js_urls, function() {\n      console.debug(\"Bokeh: BokehJS plotting callback run at\", now());\n      run_inline_js();\n    });\n  }\n}(window));"
     },
     "metadata": {},
     "output_type": "display_data"
    }
   ],
   "source": [
    "from bokeh.plotting import figure, output_notebook, show\n",
    "import numpy as np\n",
    "\n",
    "output_notebook()"
   ]
  },
  {
   "cell_type": "code",
   "execution_count": 60,
   "metadata": {},
   "outputs": [],
   "source": [
    "txt_data = np.loadtxt(\"trajectory.txt\")"
   ]
  },
  {
   "cell_type": "code",
   "execution_count": 64,
   "metadata": {},
   "outputs": [],
   "source": [
    "data = np.delete(txt_data, np.s_[500:], axis=1)"
   ]
  },
  {
   "cell_type": "code",
   "execution_count": 65,
   "metadata": {},
   "outputs": [],
   "source": [
    "x = data[0]\n",
    "y = data[1:]"
   ]
  },
  {
   "cell_type": "code",
   "execution_count": 66,
   "metadata": {},
   "outputs": [
    {
     "data": {
      "text/plain": [
       "((500,), (2, 500))"
      ]
     },
     "execution_count": 66,
     "metadata": {},
     "output_type": "execute_result"
    }
   ],
   "source": [
    "(x.shape, y.shape)"
   ]
  },
  {
   "cell_type": "code",
   "execution_count": 67,
   "metadata": {},
   "outputs": [
    {
     "data": {
      "text/html": [
       "\n",
       "\n",
       "\n",
       "\n",
       "\n",
       "\n",
       "  <div class=\"bk-root\" id=\"325b4246-021e-42ab-9950-74883992f17a\" data-root-id=\"3776\"></div>\n"
      ]
     },
     "metadata": {},
     "output_type": "display_data"
    },
    {
     "data": {
      "application/javascript": [
       "(function(root) {\n",
       "  function embed_document(root) {\n",
       "    \n",
       "  var docs_json = {\"fc2a2051-b850-43b6-a8a2-8e403d8a4c4c\":{\"roots\":{\"references\":[{\"attributes\":{},\"id\":\"3962\",\"type\":\"Selection\"},{\"attributes\":{\"text\":\"simple line example\"},\"id\":\"3777\",\"type\":\"Title\"},{\"attributes\":{\"callback\":null},\"id\":\"3781\",\"type\":\"DataRange1d\"},{\"attributes\":{},\"id\":\"3800\",\"type\":\"SaveTool\"},{\"attributes\":{\"line_color\":{\"value\":\"firebrick\"},\"line_width\":{\"value\":2},\"x\":{\"field\":\"x\"},\"y\":{\"field\":\"y\"}},\"id\":\"3816\",\"type\":\"Step\"},{\"attributes\":{},\"id\":\"3793\",\"type\":\"BasicTicker\"},{\"attributes\":{\"bottom_units\":\"screen\",\"fill_alpha\":{\"value\":0.5},\"fill_color\":{\"value\":\"lightgrey\"},\"left_units\":\"screen\",\"level\":\"overlay\",\"line_alpha\":{\"value\":1.0},\"line_color\":{\"value\":\"black\"},\"line_dash\":[4,4],\"line_width\":{\"value\":2},\"render_mode\":\"css\",\"right_units\":\"screen\",\"top_units\":\"screen\"},\"id\":\"3961\",\"type\":\"BoxAnnotation\"},{\"attributes\":{\"overlay\":{\"id\":\"3961\",\"type\":\"BoxAnnotation\"}},\"id\":\"3799\",\"type\":\"BoxZoomTool\"},{\"attributes\":{\"line_alpha\":{\"value\":0.1},\"line_color\":{\"value\":\"#1f77b4\"},\"line_width\":{\"value\":2},\"x\":{\"field\":\"x\"},\"y\":{\"field\":\"y\"}},\"id\":\"3817\",\"type\":\"Step\"},{\"attributes\":{\"callback\":null,\"data\":{\"x\":{\"__ndarray__\":\"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\",\"dtype\":\"float64\",\"shape\":[500]},\"y\":{\"__ndarray__\":\"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\",\"dtype\":\"float64\",\"shape\":[500]}},\"selected\":{\"id\":\"3964\",\"type\":\"Selection\"},\"selection_policy\":{\"id\":\"3965\",\"type\":\"UnionRenderers\"}},\"id\":\"3815\",\"type\":\"ColumnDataSource\"},{\"attributes\":{},\"id\":\"3783\",\"type\":\"LinearScale\"},{\"attributes\":{},\"id\":\"3965\",\"type\":\"UnionRenderers\"},{\"attributes\":{\"axis_label\":\"y\",\"formatter\":{\"id\":\"3958\",\"type\":\"BasicTickFormatter\"},\"ticker\":{\"id\":\"3793\",\"type\":\"BasicTicker\"}},\"id\":\"3792\",\"type\":\"LinearAxis\"},{\"attributes\":{},\"id\":\"3960\",\"type\":\"BasicTickFormatter\"},{\"attributes\":{\"data_source\":{\"id\":\"3815\",\"type\":\"ColumnDataSource\"},\"glyph\":{\"id\":\"3816\",\"type\":\"Step\"},\"hover_glyph\":null,\"muted_glyph\":null,\"nonselection_glyph\":{\"id\":\"3817\",\"type\":\"Step\"},\"selection_glyph\":null,\"view\":{\"id\":\"3819\",\"type\":\"CDSView\"}},\"id\":\"3818\",\"type\":\"GlyphRenderer\"},{\"attributes\":{},\"id\":\"3798\",\"type\":\"WheelZoomTool\"},{\"attributes\":{\"dimension\":1,\"ticker\":{\"id\":\"3793\",\"type\":\"BasicTicker\"}},\"id\":\"3796\",\"type\":\"Grid\"},{\"attributes\":{},\"id\":\"3797\",\"type\":\"PanTool\"},{\"attributes\":{\"callback\":null,\"data\":{\"x\":{\"__ndarray__\":\"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\",\"dtype\":\"float64\",\"shape\":[500]},\"y\":{\"__ndarray__\":\"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\",\"dtype\":\"float64\",\"shape\":[500]}},\"selected\":{\"id\":\"3962\",\"type\":\"Selection\"},\"selection_policy\":{\"id\":\"3963\",\"type\":\"UnionRenderers\"}},\"id\":\"3810\",\"type\":\"ColumnDataSource\"},{\"attributes\":{\"callback\":null},\"id\":\"3779\",\"type\":\"DataRange1d\"},{\"attributes\":{\"below\":[{\"id\":\"3787\",\"type\":\"LinearAxis\"}],\"center\":[{\"id\":\"3791\",\"type\":\"Grid\"},{\"id\":\"3796\",\"type\":\"Grid\"}],\"left\":[{\"id\":\"3792\",\"type\":\"LinearAxis\"}],\"renderers\":[{\"id\":\"3813\",\"type\":\"GlyphRenderer\"},{\"id\":\"3818\",\"type\":\"GlyphRenderer\"}],\"title\":{\"id\":\"3777\",\"type\":\"Title\"},\"toolbar\":{\"id\":\"3803\",\"type\":\"Toolbar\"},\"x_range\":{\"id\":\"3779\",\"type\":\"DataRange1d\"},\"x_scale\":{\"id\":\"3783\",\"type\":\"LinearScale\"},\"y_range\":{\"id\":\"3781\",\"type\":\"DataRange1d\"},\"y_scale\":{\"id\":\"3785\",\"type\":\"LinearScale\"}},\"id\":\"3776\",\"subtype\":\"Figure\",\"type\":\"Plot\"},{\"attributes\":{\"axis_label\":\"x\",\"formatter\":{\"id\":\"3960\",\"type\":\"BasicTickFormatter\"},\"ticker\":{\"id\":\"3788\",\"type\":\"BasicTicker\"}},\"id\":\"3787\",\"type\":\"LinearAxis\"},{\"attributes\":{\"line_color\":{\"value\":\"navy\"},\"line_width\":{\"value\":2},\"x\":{\"field\":\"x\"},\"y\":{\"field\":\"y\"}},\"id\":\"3811\",\"type\":\"Step\"},{\"attributes\":{\"source\":{\"id\":\"3815\",\"type\":\"ColumnDataSource\"}},\"id\":\"3819\",\"type\":\"CDSView\"},{\"attributes\":{\"ticker\":{\"id\":\"3788\",\"type\":\"BasicTicker\"}},\"id\":\"3791\",\"type\":\"Grid\"},{\"attributes\":{},\"id\":\"3958\",\"type\":\"BasicTickFormatter\"},{\"attributes\":{},\"id\":\"3964\",\"type\":\"Selection\"},{\"attributes\":{},\"id\":\"3788\",\"type\":\"BasicTicker\"},{\"attributes\":{},\"id\":\"3785\",\"type\":\"LinearScale\"},{\"attributes\":{\"source\":{\"id\":\"3810\",\"type\":\"ColumnDataSource\"}},\"id\":\"3814\",\"type\":\"CDSView\"},{\"attributes\":{\"line_alpha\":{\"value\":0.1},\"line_color\":{\"value\":\"#1f77b4\"},\"line_width\":{\"value\":2},\"x\":{\"field\":\"x\"},\"y\":{\"field\":\"y\"}},\"id\":\"3812\",\"type\":\"Step\"},{\"attributes\":{},\"id\":\"3801\",\"type\":\"ResetTool\"},{\"attributes\":{\"active_drag\":\"auto\",\"active_inspect\":\"auto\",\"active_multi\":null,\"active_scroll\":\"auto\",\"active_tap\":\"auto\",\"tools\":[{\"id\":\"3797\",\"type\":\"PanTool\"},{\"id\":\"3798\",\"type\":\"WheelZoomTool\"},{\"id\":\"3799\",\"type\":\"BoxZoomTool\"},{\"id\":\"3800\",\"type\":\"SaveTool\"},{\"id\":\"3801\",\"type\":\"ResetTool\"},{\"id\":\"3802\",\"type\":\"HelpTool\"}]},\"id\":\"3803\",\"type\":\"Toolbar\"},{\"attributes\":{\"data_source\":{\"id\":\"3810\",\"type\":\"ColumnDataSource\"},\"glyph\":{\"id\":\"3811\",\"type\":\"Step\"},\"hover_glyph\":null,\"muted_glyph\":null,\"nonselection_glyph\":{\"id\":\"3812\",\"type\":\"Step\"},\"selection_glyph\":null,\"view\":{\"id\":\"3814\",\"type\":\"CDSView\"}},\"id\":\"3813\",\"type\":\"GlyphRenderer\"},{\"attributes\":{},\"id\":\"3802\",\"type\":\"HelpTool\"},{\"attributes\":{},\"id\":\"3963\",\"type\":\"UnionRenderers\"}],\"root_ids\":[\"3776\"]},\"title\":\"Bokeh Application\",\"version\":\"1.3.4\"}};\n",
       "  var render_items = [{\"docid\":\"fc2a2051-b850-43b6-a8a2-8e403d8a4c4c\",\"roots\":{\"3776\":\"325b4246-021e-42ab-9950-74883992f17a\"}}];\n",
       "  root.Bokeh.embed.embed_items_notebook(docs_json, render_items);\n",
       "\n",
       "  }\n",
       "  if (root.Bokeh !== undefined) {\n",
       "    embed_document(root);\n",
       "  } else {\n",
       "    var attempts = 0;\n",
       "    var timer = setInterval(function(root) {\n",
       "      if (root.Bokeh !== undefined) {\n",
       "        embed_document(root);\n",
       "        clearInterval(timer);\n",
       "      }\n",
       "      attempts++;\n",
       "      if (attempts > 100) {\n",
       "        console.log(\"Bokeh: ERROR: Unable to run BokehJS code because BokehJS library is missing\");\n",
       "        clearInterval(timer);\n",
       "      }\n",
       "    }, 10, root)\n",
       "  }\n",
       "})(window);"
      ],
      "application/vnd.bokehjs_exec.v0+json": ""
     },
     "metadata": {
      "application/vnd.bokehjs_exec.v0+json": {
       "id": "3776"
      }
     },
     "output_type": "display_data"
    }
   ],
   "source": [
    "# create a new plot with a title and axis labels\n",
    "p = figure(title=\"simple line example\", x_axis_label='x', y_axis_label='y')\n",
    "\n",
    "# add a line renderer with legend and line thickness\n",
    "p.step(x, y[0], line_width=2, color=\"navy\")\n",
    "p.step(x, y[1], line_width=2, color=\"firebrick\")\n",
    "\n",
    "# show the results\n",
    "show(p)"
   ]
  },
  {
   "cell_type": "code",
   "execution_count": 26,
   "metadata": {},
   "outputs": [
    {
     "data": {
      "text/plain": [
       "slice(5, None, None)"
      ]
     },
     "execution_count": 26,
     "metadata": {},
     "output_type": "execute_result"
    }
   ],
   "source": [
    "np.s_[5:]"
   ]
  },
  {
   "cell_type": "code",
   "execution_count": 59,
   "metadata": {},
   "outputs": [
    {
     "data": {
      "text/plain": [
       "dtype('float64')"
      ]
     },
     "execution_count": 59,
     "metadata": {},
     "output_type": "execute_result"
    }
   ],
   "source": [
    "data.dtype"
   ]
  },
  {
   "cell_type": "code",
   "execution_count": null,
   "metadata": {},
   "outputs": [],
   "source": []
  }
 ],
 "metadata": {
  "kernelspec": {
   "display_name": "Python 3",
   "language": "python",
   "name": "python3"
  },
  "language_info": {
   "codemirror_mode": {
    "name": "ipython",
    "version": 3
   },
   "file_extension": ".py",
   "mimetype": "text/x-python",
   "name": "python",
   "nbconvert_exporter": "python",
   "pygments_lexer": "ipython3",
   "version": "3.5.2"
  }
 },
 "nbformat": 4,
 "nbformat_minor": 2
}
