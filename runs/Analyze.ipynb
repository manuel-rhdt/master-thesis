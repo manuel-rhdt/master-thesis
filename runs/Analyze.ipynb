{
 "cells": [
  {
   "cell_type": "code",
   "execution_count": 49,
   "metadata": {},
   "outputs": [
    {
     "data": {
      "text/html": [
       "\n",
       "    <div class=\"bk-root\">\n",
       "        <a href=\"https://bokeh.pydata.org\" target=\"_blank\" class=\"bk-logo bk-logo-small bk-logo-notebook\"></a>\n",
       "        <span id=\"2707\">Loading BokehJS ...</span>\n",
       "    </div>"
      ]
     },
     "metadata": {},
     "output_type": "display_data"
    },
    {
     "data": {
      "application/javascript": [
       "\n",
       "(function(root) {\n",
       "  function now() {\n",
       "    return new Date();\n",
       "  }\n",
       "\n",
       "  var force = true;\n",
       "\n",
       "  if (typeof root._bokeh_onload_callbacks === \"undefined\" || force === true) {\n",
       "    root._bokeh_onload_callbacks = [];\n",
       "    root._bokeh_is_loading = undefined;\n",
       "  }\n",
       "\n",
       "  var JS_MIME_TYPE = 'application/javascript';\n",
       "  var HTML_MIME_TYPE = 'text/html';\n",
       "  var EXEC_MIME_TYPE = 'application/vnd.bokehjs_exec.v0+json';\n",
       "  var CLASS_NAME = 'output_bokeh rendered_html';\n",
       "\n",
       "  /**\n",
       "   * Render data to the DOM node\n",
       "   */\n",
       "  function render(props, node) {\n",
       "    var script = document.createElement(\"script\");\n",
       "    node.appendChild(script);\n",
       "  }\n",
       "\n",
       "  /**\n",
       "   * Handle when an output is cleared or removed\n",
       "   */\n",
       "  function handleClearOutput(event, handle) {\n",
       "    var cell = handle.cell;\n",
       "\n",
       "    var id = cell.output_area._bokeh_element_id;\n",
       "    var server_id = cell.output_area._bokeh_server_id;\n",
       "    // Clean up Bokeh references\n",
       "    if (id != null && id in Bokeh.index) {\n",
       "      Bokeh.index[id].model.document.clear();\n",
       "      delete Bokeh.index[id];\n",
       "    }\n",
       "\n",
       "    if (server_id !== undefined) {\n",
       "      // Clean up Bokeh references\n",
       "      var cmd = \"from bokeh.io.state import curstate; print(curstate().uuid_to_server['\" + server_id + \"'].get_sessions()[0].document.roots[0]._id)\";\n",
       "      cell.notebook.kernel.execute(cmd, {\n",
       "        iopub: {\n",
       "          output: function(msg) {\n",
       "            var id = msg.content.text.trim();\n",
       "            if (id in Bokeh.index) {\n",
       "              Bokeh.index[id].model.document.clear();\n",
       "              delete Bokeh.index[id];\n",
       "            }\n",
       "          }\n",
       "        }\n",
       "      });\n",
       "      // Destroy server and session\n",
       "      var cmd = \"import bokeh.io.notebook as ion; ion.destroy_server('\" + server_id + \"')\";\n",
       "      cell.notebook.kernel.execute(cmd);\n",
       "    }\n",
       "  }\n",
       "\n",
       "  /**\n",
       "   * Handle when a new output is added\n",
       "   */\n",
       "  function handleAddOutput(event, handle) {\n",
       "    var output_area = handle.output_area;\n",
       "    var output = handle.output;\n",
       "\n",
       "    // limit handleAddOutput to display_data with EXEC_MIME_TYPE content only\n",
       "    if ((output.output_type != \"display_data\") || (!output.data.hasOwnProperty(EXEC_MIME_TYPE))) {\n",
       "      return\n",
       "    }\n",
       "\n",
       "    var toinsert = output_area.element.find(\".\" + CLASS_NAME.split(' ')[0]);\n",
       "\n",
       "    if (output.metadata[EXEC_MIME_TYPE][\"id\"] !== undefined) {\n",
       "      toinsert[toinsert.length - 1].firstChild.textContent = output.data[JS_MIME_TYPE];\n",
       "      // store reference to embed id on output_area\n",
       "      output_area._bokeh_element_id = output.metadata[EXEC_MIME_TYPE][\"id\"];\n",
       "    }\n",
       "    if (output.metadata[EXEC_MIME_TYPE][\"server_id\"] !== undefined) {\n",
       "      var bk_div = document.createElement(\"div\");\n",
       "      bk_div.innerHTML = output.data[HTML_MIME_TYPE];\n",
       "      var script_attrs = bk_div.children[0].attributes;\n",
       "      for (var i = 0; i < script_attrs.length; i++) {\n",
       "        toinsert[toinsert.length - 1].firstChild.setAttribute(script_attrs[i].name, script_attrs[i].value);\n",
       "      }\n",
       "      // store reference to server id on output_area\n",
       "      output_area._bokeh_server_id = output.metadata[EXEC_MIME_TYPE][\"server_id\"];\n",
       "    }\n",
       "  }\n",
       "\n",
       "  function register_renderer(events, OutputArea) {\n",
       "\n",
       "    function append_mime(data, metadata, element) {\n",
       "      // create a DOM node to render to\n",
       "      var toinsert = this.create_output_subarea(\n",
       "        metadata,\n",
       "        CLASS_NAME,\n",
       "        EXEC_MIME_TYPE\n",
       "      );\n",
       "      this.keyboard_manager.register_events(toinsert);\n",
       "      // Render to node\n",
       "      var props = {data: data, metadata: metadata[EXEC_MIME_TYPE]};\n",
       "      render(props, toinsert[toinsert.length - 1]);\n",
       "      element.append(toinsert);\n",
       "      return toinsert\n",
       "    }\n",
       "\n",
       "    /* Handle when an output is cleared or removed */\n",
       "    events.on('clear_output.CodeCell', handleClearOutput);\n",
       "    events.on('delete.Cell', handleClearOutput);\n",
       "\n",
       "    /* Handle when a new output is added */\n",
       "    events.on('output_added.OutputArea', handleAddOutput);\n",
       "\n",
       "    /**\n",
       "     * Register the mime type and append_mime function with output_area\n",
       "     */\n",
       "    OutputArea.prototype.register_mime_type(EXEC_MIME_TYPE, append_mime, {\n",
       "      /* Is output safe? */\n",
       "      safe: true,\n",
       "      /* Index of renderer in `output_area.display_order` */\n",
       "      index: 0\n",
       "    });\n",
       "  }\n",
       "\n",
       "  // register the mime type if in Jupyter Notebook environment and previously unregistered\n",
       "  if (root.Jupyter !== undefined) {\n",
       "    var events = require('base/js/events');\n",
       "    var OutputArea = require('notebook/js/outputarea').OutputArea;\n",
       "\n",
       "    if (OutputArea.prototype.mime_types().indexOf(EXEC_MIME_TYPE) == -1) {\n",
       "      register_renderer(events, OutputArea);\n",
       "    }\n",
       "  }\n",
       "\n",
       "  \n",
       "  if (typeof (root._bokeh_timeout) === \"undefined\" || force === true) {\n",
       "    root._bokeh_timeout = Date.now() + 5000;\n",
       "    root._bokeh_failed_load = false;\n",
       "  }\n",
       "\n",
       "  var NB_LOAD_WARNING = {'data': {'text/html':\n",
       "     \"<div style='background-color: #fdd'>\\n\"+\n",
       "     \"<p>\\n\"+\n",
       "     \"BokehJS does not appear to have successfully loaded. If loading BokehJS from CDN, this \\n\"+\n",
       "     \"may be due to a slow or bad network connection. Possible fixes:\\n\"+\n",
       "     \"</p>\\n\"+\n",
       "     \"<ul>\\n\"+\n",
       "     \"<li>re-rerun `output_notebook()` to attempt to load from CDN again, or</li>\\n\"+\n",
       "     \"<li>use INLINE resources instead, as so:</li>\\n\"+\n",
       "     \"</ul>\\n\"+\n",
       "     \"<code>\\n\"+\n",
       "     \"from bokeh.resources import INLINE\\n\"+\n",
       "     \"output_notebook(resources=INLINE)\\n\"+\n",
       "     \"</code>\\n\"+\n",
       "     \"</div>\"}};\n",
       "\n",
       "  function display_loaded() {\n",
       "    var el = document.getElementById(\"2707\");\n",
       "    if (el != null) {\n",
       "      el.textContent = \"BokehJS is loading...\";\n",
       "    }\n",
       "    if (root.Bokeh !== undefined) {\n",
       "      if (el != null) {\n",
       "        el.textContent = \"BokehJS \" + root.Bokeh.version + \" successfully loaded.\";\n",
       "      }\n",
       "    } else if (Date.now() < root._bokeh_timeout) {\n",
       "      setTimeout(display_loaded, 100)\n",
       "    }\n",
       "  }\n",
       "\n",
       "\n",
       "  function run_callbacks() {\n",
       "    try {\n",
       "      root._bokeh_onload_callbacks.forEach(function(callback) {\n",
       "        if (callback != null)\n",
       "          callback();\n",
       "      });\n",
       "    } finally {\n",
       "      delete root._bokeh_onload_callbacks\n",
       "    }\n",
       "    console.debug(\"Bokeh: all callbacks have finished\");\n",
       "  }\n",
       "\n",
       "  function load_libs(css_urls, js_urls, callback) {\n",
       "    if (css_urls == null) css_urls = [];\n",
       "    if (js_urls == null) js_urls = [];\n",
       "\n",
       "    root._bokeh_onload_callbacks.push(callback);\n",
       "    if (root._bokeh_is_loading > 0) {\n",
       "      console.debug(\"Bokeh: BokehJS is being loaded, scheduling callback at\", now());\n",
       "      return null;\n",
       "    }\n",
       "    if (js_urls == null || js_urls.length === 0) {\n",
       "      run_callbacks();\n",
       "      return null;\n",
       "    }\n",
       "    console.debug(\"Bokeh: BokehJS not loaded, scheduling load and callback at\", now());\n",
       "    root._bokeh_is_loading = css_urls.length + js_urls.length;\n",
       "\n",
       "    function on_load() {\n",
       "      root._bokeh_is_loading--;\n",
       "      if (root._bokeh_is_loading === 0) {\n",
       "        console.debug(\"Bokeh: all BokehJS libraries/stylesheets loaded\");\n",
       "        run_callbacks()\n",
       "      }\n",
       "    }\n",
       "\n",
       "    function on_error() {\n",
       "      console.error(\"failed to load \" + url);\n",
       "    }\n",
       "\n",
       "    for (var i = 0; i < css_urls.length; i++) {\n",
       "      var url = css_urls[i];\n",
       "      const element = document.createElement(\"link\");\n",
       "      element.onload = on_load;\n",
       "      element.onerror = on_error;\n",
       "      element.rel = \"stylesheet\";\n",
       "      element.type = \"text/css\";\n",
       "      element.href = url;\n",
       "      console.debug(\"Bokeh: injecting link tag for BokehJS stylesheet: \", url);\n",
       "      document.body.appendChild(element);\n",
       "    }\n",
       "\n",
       "    for (var i = 0; i < js_urls.length; i++) {\n",
       "      var url = js_urls[i];\n",
       "      var element = document.createElement('script');\n",
       "      element.onload = on_load;\n",
       "      element.onerror = on_error;\n",
       "      element.async = false;\n",
       "      element.src = url;\n",
       "      console.debug(\"Bokeh: injecting script tag for BokehJS library: \", url);\n",
       "      document.head.appendChild(element);\n",
       "    }\n",
       "  };var element = document.getElementById(\"2707\");\n",
       "  if (element == null) {\n",
       "    console.error(\"Bokeh: ERROR: autoload.js configured with elementid '2707' but no matching script tag was found. \")\n",
       "    return false;\n",
       "  }\n",
       "\n",
       "  function inject_raw_css(css) {\n",
       "    const element = document.createElement(\"style\");\n",
       "    element.appendChild(document.createTextNode(css));\n",
       "    document.body.appendChild(element);\n",
       "  }\n",
       "\n",
       "  var js_urls = [\"https://cdn.pydata.org/bokeh/release/bokeh-1.3.4.min.js\", \"https://cdn.pydata.org/bokeh/release/bokeh-widgets-1.3.4.min.js\", \"https://cdn.pydata.org/bokeh/release/bokeh-tables-1.3.4.min.js\", \"https://cdn.pydata.org/bokeh/release/bokeh-gl-1.3.4.min.js\"];\n",
       "  var css_urls = [];\n",
       "\n",
       "  var inline_js = [\n",
       "    function(Bokeh) {\n",
       "      Bokeh.set_log_level(\"info\");\n",
       "    },\n",
       "    \n",
       "    function(Bokeh) {\n",
       "      \n",
       "    },\n",
       "    function(Bokeh) {} // ensure no trailing comma for IE\n",
       "  ];\n",
       "\n",
       "  function run_inline_js() {\n",
       "    \n",
       "    if ((root.Bokeh !== undefined) || (force === true)) {\n",
       "      for (var i = 0; i < inline_js.length; i++) {\n",
       "        inline_js[i].call(root, root.Bokeh);\n",
       "      }if (force === true) {\n",
       "        display_loaded();\n",
       "      }} else if (Date.now() < root._bokeh_timeout) {\n",
       "      setTimeout(run_inline_js, 100);\n",
       "    } else if (!root._bokeh_failed_load) {\n",
       "      console.log(\"Bokeh: BokehJS failed to load within specified timeout.\");\n",
       "      root._bokeh_failed_load = true;\n",
       "    } else if (force !== true) {\n",
       "      var cell = $(document.getElementById(\"2707\")).parents('.cell').data().cell;\n",
       "      cell.output_area.append_execute_result(NB_LOAD_WARNING)\n",
       "    }\n",
       "\n",
       "  }\n",
       "\n",
       "  if (root._bokeh_is_loading === 0) {\n",
       "    console.debug(\"Bokeh: BokehJS loaded, going straight to plotting\");\n",
       "    run_inline_js();\n",
       "  } else {\n",
       "    load_libs(css_urls, js_urls, function() {\n",
       "      console.debug(\"Bokeh: BokehJS plotting callback run at\", now());\n",
       "      run_inline_js();\n",
       "    });\n",
       "  }\n",
       "}(window));"
      ],
      "application/vnd.bokehjs_load.v0+json": "\n(function(root) {\n  function now() {\n    return new Date();\n  }\n\n  var force = true;\n\n  if (typeof root._bokeh_onload_callbacks === \"undefined\" || force === true) {\n    root._bokeh_onload_callbacks = [];\n    root._bokeh_is_loading = undefined;\n  }\n\n  \n\n  \n  if (typeof (root._bokeh_timeout) === \"undefined\" || force === true) {\n    root._bokeh_timeout = Date.now() + 5000;\n    root._bokeh_failed_load = false;\n  }\n\n  var NB_LOAD_WARNING = {'data': {'text/html':\n     \"<div style='background-color: #fdd'>\\n\"+\n     \"<p>\\n\"+\n     \"BokehJS does not appear to have successfully loaded. If loading BokehJS from CDN, this \\n\"+\n     \"may be due to a slow or bad network connection. Possible fixes:\\n\"+\n     \"</p>\\n\"+\n     \"<ul>\\n\"+\n     \"<li>re-rerun `output_notebook()` to attempt to load from CDN again, or</li>\\n\"+\n     \"<li>use INLINE resources instead, as so:</li>\\n\"+\n     \"</ul>\\n\"+\n     \"<code>\\n\"+\n     \"from bokeh.resources import INLINE\\n\"+\n     \"output_notebook(resources=INLINE)\\n\"+\n     \"</code>\\n\"+\n     \"</div>\"}};\n\n  function display_loaded() {\n    var el = document.getElementById(\"2707\");\n    if (el != null) {\n      el.textContent = \"BokehJS is loading...\";\n    }\n    if (root.Bokeh !== undefined) {\n      if (el != null) {\n        el.textContent = \"BokehJS \" + root.Bokeh.version + \" successfully loaded.\";\n      }\n    } else if (Date.now() < root._bokeh_timeout) {\n      setTimeout(display_loaded, 100)\n    }\n  }\n\n\n  function run_callbacks() {\n    try {\n      root._bokeh_onload_callbacks.forEach(function(callback) {\n        if (callback != null)\n          callback();\n      });\n    } finally {\n      delete root._bokeh_onload_callbacks\n    }\n    console.debug(\"Bokeh: all callbacks have finished\");\n  }\n\n  function load_libs(css_urls, js_urls, callback) {\n    if (css_urls == null) css_urls = [];\n    if (js_urls == null) js_urls = [];\n\n    root._bokeh_onload_callbacks.push(callback);\n    if (root._bokeh_is_loading > 0) {\n      console.debug(\"Bokeh: BokehJS is being loaded, scheduling callback at\", now());\n      return null;\n    }\n    if (js_urls == null || js_urls.length === 0) {\n      run_callbacks();\n      return null;\n    }\n    console.debug(\"Bokeh: BokehJS not loaded, scheduling load and callback at\", now());\n    root._bokeh_is_loading = css_urls.length + js_urls.length;\n\n    function on_load() {\n      root._bokeh_is_loading--;\n      if (root._bokeh_is_loading === 0) {\n        console.debug(\"Bokeh: all BokehJS libraries/stylesheets loaded\");\n        run_callbacks()\n      }\n    }\n\n    function on_error() {\n      console.error(\"failed to load \" + url);\n    }\n\n    for (var i = 0; i < css_urls.length; i++) {\n      var url = css_urls[i];\n      const element = document.createElement(\"link\");\n      element.onload = on_load;\n      element.onerror = on_error;\n      element.rel = \"stylesheet\";\n      element.type = \"text/css\";\n      element.href = url;\n      console.debug(\"Bokeh: injecting link tag for BokehJS stylesheet: \", url);\n      document.body.appendChild(element);\n    }\n\n    for (var i = 0; i < js_urls.length; i++) {\n      var url = js_urls[i];\n      var element = document.createElement('script');\n      element.onload = on_load;\n      element.onerror = on_error;\n      element.async = false;\n      element.src = url;\n      console.debug(\"Bokeh: injecting script tag for BokehJS library: \", url);\n      document.head.appendChild(element);\n    }\n  };var element = document.getElementById(\"2707\");\n  if (element == null) {\n    console.error(\"Bokeh: ERROR: autoload.js configured with elementid '2707' but no matching script tag was found. \")\n    return false;\n  }\n\n  function inject_raw_css(css) {\n    const element = document.createElement(\"style\");\n    element.appendChild(document.createTextNode(css));\n    document.body.appendChild(element);\n  }\n\n  var js_urls = [\"https://cdn.pydata.org/bokeh/release/bokeh-1.3.4.min.js\", \"https://cdn.pydata.org/bokeh/release/bokeh-widgets-1.3.4.min.js\", \"https://cdn.pydata.org/bokeh/release/bokeh-tables-1.3.4.min.js\", \"https://cdn.pydata.org/bokeh/release/bokeh-gl-1.3.4.min.js\"];\n  var css_urls = [];\n\n  var inline_js = [\n    function(Bokeh) {\n      Bokeh.set_log_level(\"info\");\n    },\n    \n    function(Bokeh) {\n      \n    },\n    function(Bokeh) {} // ensure no trailing comma for IE\n  ];\n\n  function run_inline_js() {\n    \n    if ((root.Bokeh !== undefined) || (force === true)) {\n      for (var i = 0; i < inline_js.length; i++) {\n        inline_js[i].call(root, root.Bokeh);\n      }if (force === true) {\n        display_loaded();\n      }} else if (Date.now() < root._bokeh_timeout) {\n      setTimeout(run_inline_js, 100);\n    } else if (!root._bokeh_failed_load) {\n      console.log(\"Bokeh: BokehJS failed to load within specified timeout.\");\n      root._bokeh_failed_load = true;\n    } else if (force !== true) {\n      var cell = $(document.getElementById(\"2707\")).parents('.cell').data().cell;\n      cell.output_area.append_execute_result(NB_LOAD_WARNING)\n    }\n\n  }\n\n  if (root._bokeh_is_loading === 0) {\n    console.debug(\"Bokeh: BokehJS loaded, going straight to plotting\");\n    run_inline_js();\n  } else {\n    load_libs(css_urls, js_urls, function() {\n      console.debug(\"Bokeh: BokehJS plotting callback run at\", now());\n      run_inline_js();\n    });\n  }\n}(window));"
     },
     "metadata": {},
     "output_type": "display_data"
    }
   ],
   "source": [
    "from bokeh.plotting import figure, output_notebook, show\n",
    "import numpy as np\n",
    "\n",
    "output_notebook()"
   ]
  },
  {
   "cell_type": "code",
   "execution_count": 68,
   "metadata": {},
   "outputs": [],
   "source": [
    "txt_data = np.loadtxt(\"trajectory.txt\")"
   ]
  },
  {
   "cell_type": "code",
   "execution_count": 69,
   "metadata": {},
   "outputs": [],
   "source": [
    "data = np.delete(txt_data, np.s_[500:], axis=1)"
   ]
  },
  {
   "cell_type": "code",
   "execution_count": 70,
   "metadata": {},
   "outputs": [],
   "source": [
    "x = data[0]\n",
    "y = data[1:]"
   ]
  },
  {
   "cell_type": "code",
   "execution_count": 71,
   "metadata": {},
   "outputs": [
    {
     "data": {
      "text/plain": [
       "((500,), (2, 500))"
      ]
     },
     "execution_count": 71,
     "metadata": {},
     "output_type": "execute_result"
    }
   ],
   "source": [
    "(x.shape, y.shape)"
   ]
  },
  {
   "cell_type": "code",
   "execution_count": 72,
   "metadata": {},
   "outputs": [
    {
     "data": {
      "text/html": [
       "\n",
       "\n",
       "\n",
       "\n",
       "\n",
       "\n",
       "  <div class=\"bk-root\" id=\"e5b37463-7a88-4f66-a9d2-62db683587f9\" data-root-id=\"4026\"></div>\n"
      ]
     },
     "metadata": {},
     "output_type": "display_data"
    },
    {
     "data": {
      "application/javascript": [
       "(function(root) {\n",
       "  function embed_document(root) {\n",
       "    \n",
       "  var docs_json = {\"74ffd5cd-ffdd-4d48-a8cd-c9bb5824730c\":{\"roots\":{\"references\":[{\"attributes\":{\"line_alpha\":{\"value\":0.1},\"line_color\":{\"value\":\"#1f77b4\"},\"line_width\":{\"value\":2},\"x\":{\"field\":\"x\"},\"y\":{\"field\":\"y\"}},\"id\":\"4062\",\"type\":\"Step\"},{\"attributes\":{\"text\":\"simple line example\"},\"id\":\"4027\",\"type\":\"Title\"},{\"attributes\":{},\"id\":\"4052\",\"type\":\"HelpTool\"},{\"attributes\":{\"data_source\":{\"id\":\"4065\",\"type\":\"ColumnDataSource\"},\"glyph\":{\"id\":\"4066\",\"type\":\"Step\"},\"hover_glyph\":null,\"muted_glyph\":null,\"nonselection_glyph\":{\"id\":\"4067\",\"type\":\"Step\"},\"selection_glyph\":null,\"view\":{\"id\":\"4069\",\"type\":\"CDSView\"}},\"id\":\"4068\",\"type\":\"GlyphRenderer\"},{\"attributes\":{},\"id\":\"4051\",\"type\":\"ResetTool\"},{\"attributes\":{},\"id\":\"4222\",\"type\":\"Selection\"},{\"attributes\":{},\"id\":\"4047\",\"type\":\"PanTool\"},{\"attributes\":{},\"id\":\"4043\",\"type\":\"BasicTicker\"},{\"attributes\":{\"axis_label\":\"y\",\"formatter\":{\"id\":\"4218\",\"type\":\"BasicTickFormatter\"},\"ticker\":{\"id\":\"4043\",\"type\":\"BasicTicker\"}},\"id\":\"4042\",\"type\":\"LinearAxis\"},{\"attributes\":{\"bottom_units\":\"screen\",\"fill_alpha\":{\"value\":0.5},\"fill_color\":{\"value\":\"lightgrey\"},\"left_units\":\"screen\",\"level\":\"overlay\",\"line_alpha\":{\"value\":1.0},\"line_color\":{\"value\":\"black\"},\"line_dash\":[4,4],\"line_width\":{\"value\":2},\"render_mode\":\"css\",\"right_units\":\"screen\",\"top_units\":\"screen\"},\"id\":\"4221\",\"type\":\"BoxAnnotation\"},{\"attributes\":{},\"id\":\"4224\",\"type\":\"Selection\"},{\"attributes\":{\"active_drag\":\"auto\",\"active_inspect\":\"auto\",\"active_multi\":null,\"active_scroll\":\"auto\",\"active_tap\":\"auto\",\"tools\":[{\"id\":\"4047\",\"type\":\"PanTool\"},{\"id\":\"4048\",\"type\":\"WheelZoomTool\"},{\"id\":\"4049\",\"type\":\"BoxZoomTool\"},{\"id\":\"4050\",\"type\":\"SaveTool\"},{\"id\":\"4051\",\"type\":\"ResetTool\"},{\"id\":\"4052\",\"type\":\"HelpTool\"}]},\"id\":\"4053\",\"type\":\"Toolbar\"},{\"attributes\":{\"source\":{\"id\":\"4060\",\"type\":\"ColumnDataSource\"}},\"id\":\"4064\",\"type\":\"CDSView\"},{\"attributes\":{\"callback\":null,\"data\":{\"x\":{\"__ndarray__\":\"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\",\"dtype\":\"float64\",\"shape\":[500]},\"y\":{\"__ndarray__\":\"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\",\"dtype\":\"float64\",\"shape\":[500]}},\"selected\":{\"id\":\"4224\",\"type\":\"Selection\"},\"selection_policy\":{\"id\":\"4225\",\"type\":\"UnionRenderers\"}},\"id\":\"4065\",\"type\":\"ColumnDataSource\"},{\"attributes\":{\"line_alpha\":{\"value\":0.1},\"line_color\":{\"value\":\"#1f77b4\"},\"line_width\":{\"value\":2},\"x\":{\"field\":\"x\"},\"y\":{\"field\":\"y\"}},\"id\":\"4067\",\"type\":\"Step\"},{\"attributes\":{},\"id\":\"4225\",\"type\":\"UnionRenderers\"},{\"attributes\":{},\"id\":\"4220\",\"type\":\"BasicTickFormatter\"},{\"attributes\":{\"callback\":null},\"id\":\"4031\",\"type\":\"DataRange1d\"},{\"attributes\":{},\"id\":\"4048\",\"type\":\"WheelZoomTool\"},{\"attributes\":{},\"id\":\"4223\",\"type\":\"UnionRenderers\"},{\"attributes\":{},\"id\":\"4035\",\"type\":\"LinearScale\"},{\"attributes\":{\"source\":{\"id\":\"4065\",\"type\":\"ColumnDataSource\"}},\"id\":\"4069\",\"type\":\"CDSView\"},{\"attributes\":{\"callback\":null,\"data\":{\"x\":{\"__ndarray__\":\"pRBTK05kYD/m6mgS96ZgP2g5cbXqYWo/a9EGNU4edD8/sHIuFiJ0PzslHh8/eXU/ioY6pw3Afj9NcGomVu+BPw3yErG5j4Y/5CijsUTWhj+S1+7On1GHP7Bid9bxpIo/du2jF4SfjD98OTdGojuOP4hVtP+6A5E/CiA5/OlCkT/WCi4tImmRP+ZX0nTOapE/Qs7fopW1kz//lNiDhH+UP9hBPhOUzZY//CUrVEUfmj8BcfqMKSCbP1FUCjRH75s/ibiLTSUHnD8/vzxSd2ycP+iIvKQu0Jw/SDm1t2y2nT8NrWmJBVqeP8PJqywBmZ4/IPFAwX3Tnj9adqQn7OWeP0HrWMSE558/zlHTmDsJoT9/ibDyIeehP7xnOE/i6KE/7KDVYGigoj8ukaNgCIqjP67kWlRJo6M/Rl4B4NrJoz+fvhhChWulP8TeuR59vKU/Wy2mmFX1pT8M/aQRTIimP0UWYNL0f6c/CsUkAnwPqD9ant5lsmKoP4AjrcVlaKg/qZgLTZP9qD8HUnYeATGpP17Gc5MyPak/NQVhljtVqT82kSJGZLCqP5ajIyZmYas/wJ6MB3iYqz8qVsoFxs6rP5ZEWmRLQKw/oPlFBxizrD/qU/52hRitP5OWMJwNM60/2BQh4P6orT8xMbDD+uavP/1rmZYVSrA/Mo9Zey6lsD9whJ3go7CxP0rSbVyVybE/X47DGSLLsT9ZvZteqjmyP3WL9yJgGrM/b5HriazDtD8C3z9oVvu0P0KMmNz5irU/Gff01hDhtT9Ja7lulQG3PwAlNdZfP7c/u51fpwxBtz+8S2UMWK63P5NnPwc4Lrg/YC1UGjA5uD9oZS65IHS5PzzCdRxLgLk/hBT+Iq35uT99uBLrXoa6P17oPTm4iro/QHdZGAuluj+Dukjee926P10Efu/HSbs/yXrnHQRTuz/bNjC00tW7P0hccVxvGrw/b5iEi7I6vD/TKyWrB2m8P4DBsT2k27w/+PpJh1RFvT9mc6vWSW29P2Xt3HJFu70/vaB646/EvT8wwA1H9+C9P7xq83icP74/lY+p45Wnvj8aDNd7Cea+P4b0Pkjui78/+jj2xPWMvz+SKpbs/5vAP37yAvADqcA/gzLJiGTJwD8/AYjU8s7AP9TPcE1g1cA/3dC4hGk7wT9FBvIZaEfBP9a8xJJbycE/a1rBPiPiwT9ih9yiiPPBPy56zv+eCMI/b0DvXbRswj/Gy5WT8ZjCP6/CJf6JpcI/L/TrKOCvwj9ciZlGl8fCP8S+qM191cI/LmqCHtzVwj+2GQp7T+XCP86ofvo/NsM/Y9EbqMZzwz/CMFren3XDP+LYN1/YksM/vd1WmUH0wz8GaYfnWCjEP2VxFhblb8Q/tu5os1LgxD/xCmldtufEP6NVSPB92cU/Lp1R4JHpxT85EQWVQGbGP2R5q3RpcMY/RZILDdiaxj9qy25O7KnHPyHUczwROsg/D4pN+9N6yD+N2ekSbybJP/0O1Zu9XMk/kdvsy/izyT9WHqcXFwnKP6LXoUFWOco/BlqDZLdnyj/SMxHnQMPKP3VwsGNQ8Mo/IeghzV89yz8ptk+w+p3LP0N8D7dQ6cs/o+I7aZPsyz80rPyJ0PXLP6o621I7Ecw/ROiZGePKzD8xZCZN3eLMP/5ZvOlIHs0/OnrOhXqlzT/MMkset9nNP8WJsQmMPM4/y2zt5m9Dzj8+/+ejWVvOPxXQ3HQ70s4/sgG6dTsuzz9XFGfiIDXPP+PkZC5ksc8/1YlKG3y/zz95iA4Nbc7PP6wH7htLKNA/BYLIZQ9l0D+DEgsliKDQP4q1HglupdA/B3bwmoKn0D8okkoAmajQPw7+0a9LvNA/b1zrPzXS0D8D8FfKn//QPw+Qxl2BC9E/L8uKkSsT0T8XVp/DKEHRP1Z5fb3ZUNE/gz+pIeC/0T8g5ssl8yDSP89DtxHBQNI/fc5le69a0j8Ne5oJgofSPxFNY16aw9I/9o3P/SHZ0j+jIZ+rmd7SPzjT/y2pG9M/kx3jG4fF0z888DTTmtfTP8XAC0XJ99M/vBtWyRAT1D9hmU26Rh7UP7N/DACMItQ/c+sW2M8p1D9af1tQdVvUPyPzo8ZGc9Q/0QYvYAh/1D+pPzjefp/UP1ajPhTcydQ/+kDxZgjL1D9aY+JrC+DUP8VSix5I9dQ/wk/RWj8u1T+NfRnc8EPVPw6yi6BVY9U/FG6XXGym1T+ogLMeWrTVP4fs7jnxxtU/oCkFvu3s1T+WWALVCHHWPyc0ISu1kNY/tMgltui01j+w3GvFPivXP/TfJbfKLNc/m8tJXblv1z8pw2turJzXP1wuIZ/dMdg/svgweNtW2D/yRK6WXFrYPwDgDmojmdg/SGytLwXo2D+LQmJ0AQzZP7RFQj5OHtk/zNlR+jw12T9Lj8Hlml7ZP4ySviL+itk/qEo88ePM2T8t6MvQ3BraP4XGqYVrQ9o/S2SU4WOa2j/g1saH6azaP3kiXVAQ0No/FSLyuP0P2z/KguUPABnbP0I/wMExINs/sR/VDoux2z80oa1u77bbPzhuPEBHvds/iYI5P2PB2z+IGMoqwdDbP31ZeiF+8ds/jDQeV6423D+naO18NLncPw7ABInf4Nw/P7zjU8723D+mXyiwEVzdP/m9lOZEft4/PdjY5O3D3j+pcrtHaMTeP4nh67+czt4/HfLyiBbi3j+O2cHMxkjfPyShK6vIX98/l5RxYIxy3z/TWVdOYLrfP2xkQdslx98/gbrN/bHZ3z8y4lzgmgjgPxesizLjDuA/1Wfqt8Na4D/HQQAHgXTgP0lZHpOMfuA/NvLq0RaI4D/tpWcdS47gP8T5LaTSs+A/KKsf88G04D+9JlWbFrrgP8+pNn3yPeE/Yj9kbNlJ4T/CGHQv8lnhP6kiZ/E2juE/v3XYLibj4T9gEc/tpOjhP8noHnxH8eE/yJk2Gqfz4T++uj11ZATiP6Dl75SFBeI/p/TQu9pN4j+gU0JsqGviP5Xh5HJvjOI/yt/5EzSf4j/G7/02P37jP0N7eq3PleM/BWRJLT6W4z//QjS0gcfjP2qEwxBJyeM/RMjzhOHM4z/cMmkIlPPjP9tfM2pfDuQ/lkMHw/1n5D/54VNcM2jkPw4CXMSNj+Q/lz2wZcUH5T8CAOLuxRPlPxnk5UCWZeU/OMLG4RWN5T+Rxxz58aDlP/BwEWzY9eU/fTTzlqgv5j/JqyHcSO/mP0f0DTrpOOc/K7lkK0yb5z+YIax4hVDoP3ML2Wq1Xeg/YAlWfjs66T8GKDHg+TzpPxkvGJtzwOk/8Az+/I8a6j9313bTLSfqP2AhtdpTT+o/AZrQxhJw6j/a+vdIJXbqP6oQ5QcGxeo/QVnyFKvj6j87DgwyT3HrP2vQOqetqes/0Kstvd3K6z9dlPho1ErsPymm0Hn7Ae0/+TV0qM407T84ggQYXuPtP2Nzqz0kAO4//Az0e5UD7j8Fd1W1jD3uP8soWJoPV+4/jHV3hGtX7j+f6aEZ8WvuP2V25y4Ks+4/KCShD9vJ7j9L1EUpAwzvP4KUdAMajO8/j+YpOh/Z7z8bcdjprw7wP4mddjdwFfA/7FEDDUN+8D8wRrHdP8HwPwNAMDncBvE/GDveIT5R8T/ycsl7TXbxP84bTbqwlvE/RfjwMkua8T864+eGT6bxP5ZBhKE1s/E/2Gjr3Kj08T8MNZDdQW/yP/MA4kV3ePI/+6QVCu998j9TQoXc9sXyP0ZdCHmJQfM/MMmG9ZO18z9YoBX4LOTzPy9pjXh7NvQ/tG9x3yC+9D96y88DbM70P6gIDOBZ0/Q/aOOGPJta9T+AnNee9GL1Pw8osZVmx/U/6eqdh7/O9T/3Xg4DEvD1P9FTaKxjK/Y/fzh2ktkz9j/GWTnpv3D2P/OAOA2Nr/Y/Z447G1sj9z8IGeq0Mib3P82nJG5vRvc/ePhZeBKL9z+GUxBkWsf3Pw/GRAYI3fg/o1oFRSnj+D83NgdFBvn4P8Ieb5THF/k/YLS9JRwg+T+lZpam+DX5P8ExzbGi+Pk/v7NnzltM+j+4IlcOGlD6P2Q70IbzgPo/v5eFi2uZ+j/d8uKY4qD6P1cyPSc38fo/ZsIrlOcQ+z/UrUGMNTP7P+TLAuOVRPs/ENjU8AJg+z8BZZWWW9T7P/tnAl5O/vs/z4+ehlQT/D+85HDQ2x38P+dQ97dPjvw/+7/dyJ7U/j+OILS/cGb/P8qDBFSZlP8/s2AfSlrW/z+JO+V5Qej/P2J/R5ZsOABAAc7M4IafAED8s/Uv3K8AQL/FEt7OwwBAEgbh3P3YAEAGIjy/juIAQPl5vQtY5QBA13sAaNf4AEDzUsT4ryoBQP1zaVsEtwFAZN9c+zZDAkBcf/wv6qECQPLV1CHdQANAse5cLG6mA0DYxZstutEDQFkcvKYISwRAyumtEzKdBEDjsWeONakEQMgy78q/GwZAB5HfbsmTBkDIVmqYdw8HQLHDl+zYIgdAh8LOVkuFB0COjrhGNKwHQDErlq1LKQhAm1Vt/Ab+CECNiAPtQAMKQG4HoWJrOgpAZqB5rCN2CkAY4o4VVYQKQHyZ6gxjQwtAl3D8dDFVC0Ayh00jQ4ALQIsH2gBjnAtAgSncaoXcC0DNBRIAK/cLQGEV1aSjMAxA1sHXRrlRDUDVTNimUsUNQFsr47Wh4g1ANDMJaYJIDkCynyTlKp0OQETAVA4wuA9AGCERoEr0EEDNJMfvcpIRQPAHZFDORBJA6iDR7YF2EkAGFM+SEHwTQJ7pb8wpgBNAjL+O4NSBE0BRxVz/8ZITQA3GxbtIwRNAjfDKq2X7E0BK/ecmDKkUQC1y/aa2uBRAfc5FW8LRFEC4OT5tj/MUQEkeghQbNRVAxBh33eZwFUApFzsjhqwVQJv9dkDfTBZAMHI3tU2YFkC9kzInqjMYQEzWBJJAUxhAe66nd1/zGEBAkB7MHFAZQNkymuEkoBlA8OD+LImlGUBkzPQl6acZQDiUFxec/BlArIBCrPAqGkAKHO6OPzccQJgB0W5/iB1AeOvA8zIHHkAa8onxiaceQAlOXo/dhR9AstxqzZvRH0DCZb+HrB0gQJrZd/3aKiBAfxzSd9R4IUCd2qeEqrchQNJMyaMfNyJAQymk5lnVIkC9OIFKhF0jQIccWRAOMCRAaUXA32wnJUAmL/CHKrklQBOm99SH2ylAgql1cZj6KUA/0Z/njJcqQPPynAwUsSpADwSHviDRKkAS09EKR5UrQJwPGYBENzBAiVA2UrsSMUCK4AqM+3wxQJ8yHZLKmzFApntuehf6MUBsy9VT2OQyQOZEUHu5DDlAvy62Sr4MOUCQ4UwISrU5QA==\",\"dtype\":\"float64\",\"shape\":[500]},\"y\":{\"__ndarray__\":\"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\",\"dtype\":\"float64\",\"shape\":[500]}},\"selected\":{\"id\":\"4222\",\"type\":\"Selection\"},\"selection_policy\":{\"id\":\"4223\",\"type\":\"UnionRenderers\"}},\"id\":\"4060\",\"type\":\"ColumnDataSource\"},{\"attributes\":{},\"id\":\"4033\",\"type\":\"LinearScale\"},{\"attributes\":{\"line_color\":{\"value\":\"navy\"},\"line_width\":{\"value\":2},\"x\":{\"field\":\"x\"},\"y\":{\"field\":\"y\"}},\"id\":\"4061\",\"type\":\"Step\"},{\"attributes\":{\"below\":[{\"id\":\"4037\",\"type\":\"LinearAxis\"}],\"center\":[{\"id\":\"4041\",\"type\":\"Grid\"},{\"id\":\"4046\",\"type\":\"Grid\"}],\"left\":[{\"id\":\"4042\",\"type\":\"LinearAxis\"}],\"renderers\":[{\"id\":\"4063\",\"type\":\"GlyphRenderer\"},{\"id\":\"4068\",\"type\":\"GlyphRenderer\"}],\"title\":{\"id\":\"4027\",\"type\":\"Title\"},\"toolbar\":{\"id\":\"4053\",\"type\":\"Toolbar\"},\"x_range\":{\"id\":\"4029\",\"type\":\"DataRange1d\"},\"x_scale\":{\"id\":\"4033\",\"type\":\"LinearScale\"},\"y_range\":{\"id\":\"4031\",\"type\":\"DataRange1d\"},\"y_scale\":{\"id\":\"4035\",\"type\":\"LinearScale\"}},\"id\":\"4026\",\"subtype\":\"Figure\",\"type\":\"Plot\"},{\"attributes\":{\"data_source\":{\"id\":\"4060\",\"type\":\"ColumnDataSource\"},\"glyph\":{\"id\":\"4061\",\"type\":\"Step\"},\"hover_glyph\":null,\"muted_glyph\":null,\"nonselection_glyph\":{\"id\":\"4062\",\"type\":\"Step\"},\"selection_glyph\":null,\"view\":{\"id\":\"4064\",\"type\":\"CDSView\"}},\"id\":\"4063\",\"type\":\"GlyphRenderer\"},{\"attributes\":{},\"id\":\"4050\",\"type\":\"SaveTool\"},{\"attributes\":{\"axis_label\":\"x\",\"formatter\":{\"id\":\"4220\",\"type\":\"BasicTickFormatter\"},\"ticker\":{\"id\":\"4038\",\"type\":\"BasicTicker\"}},\"id\":\"4037\",\"type\":\"LinearAxis\"},{\"attributes\":{\"ticker\":{\"id\":\"4038\",\"type\":\"BasicTicker\"}},\"id\":\"4041\",\"type\":\"Grid\"},{\"attributes\":{\"callback\":null},\"id\":\"4029\",\"type\":\"DataRange1d\"},{\"attributes\":{\"overlay\":{\"id\":\"4221\",\"type\":\"BoxAnnotation\"}},\"id\":\"4049\",\"type\":\"BoxZoomTool\"},{\"attributes\":{\"line_color\":{\"value\":\"firebrick\"},\"line_width\":{\"value\":2},\"x\":{\"field\":\"x\"},\"y\":{\"field\":\"y\"}},\"id\":\"4066\",\"type\":\"Step\"},{\"attributes\":{\"dimension\":1,\"ticker\":{\"id\":\"4043\",\"type\":\"BasicTicker\"}},\"id\":\"4046\",\"type\":\"Grid\"},{\"attributes\":{},\"id\":\"4218\",\"type\":\"BasicTickFormatter\"},{\"attributes\":{},\"id\":\"4038\",\"type\":\"BasicTicker\"}],\"root_ids\":[\"4026\"]},\"title\":\"Bokeh Application\",\"version\":\"1.3.4\"}};\n",
       "  var render_items = [{\"docid\":\"74ffd5cd-ffdd-4d48-a8cd-c9bb5824730c\",\"roots\":{\"4026\":\"e5b37463-7a88-4f66-a9d2-62db683587f9\"}}];\n",
       "  root.Bokeh.embed.embed_items_notebook(docs_json, render_items);\n",
       "\n",
       "  }\n",
       "  if (root.Bokeh !== undefined) {\n",
       "    embed_document(root);\n",
       "  } else {\n",
       "    var attempts = 0;\n",
       "    var timer = setInterval(function(root) {\n",
       "      if (root.Bokeh !== undefined) {\n",
       "        embed_document(root);\n",
       "        clearInterval(timer);\n",
       "      }\n",
       "      attempts++;\n",
       "      if (attempts > 100) {\n",
       "        console.log(\"Bokeh: ERROR: Unable to run BokehJS code because BokehJS library is missing\");\n",
       "        clearInterval(timer);\n",
       "      }\n",
       "    }, 10, root)\n",
       "  }\n",
       "})(window);"
      ],
      "application/vnd.bokehjs_exec.v0+json": ""
     },
     "metadata": {
      "application/vnd.bokehjs_exec.v0+json": {
       "id": "4026"
      }
     },
     "output_type": "display_data"
    }
   ],
   "source": [
    "# create a new plot with a title and axis labels\n",
    "p = figure(title=\"simple line example\", x_axis_label='x', y_axis_label='y')\n",
    "\n",
    "# add a line renderer with legend and line thickness\n",
    "p.step(x, y[0], line_width=2, color=\"navy\")\n",
    "p.step(x, y[1], line_width=2, color=\"firebrick\")\n",
    "\n",
    "# show the results\n",
    "show(p)"
   ]
  },
  {
   "cell_type": "code",
   "execution_count": 26,
   "metadata": {},
   "outputs": [
    {
     "data": {
      "text/plain": [
       "slice(5, None, None)"
      ]
     },
     "execution_count": 26,
     "metadata": {},
     "output_type": "execute_result"
    }
   ],
   "source": [
    "np.s_[5:]"
   ]
  },
  {
   "cell_type": "code",
   "execution_count": 59,
   "metadata": {},
   "outputs": [
    {
     "data": {
      "text/plain": [
       "dtype('float64')"
      ]
     },
     "execution_count": 59,
     "metadata": {},
     "output_type": "execute_result"
    }
   ],
   "source": [
    "data.dtype"
   ]
  },
  {
   "cell_type": "code",
   "execution_count": null,
   "metadata": {},
   "outputs": [],
   "source": []
  }
 ],
 "metadata": {
  "kernelspec": {
   "display_name": "Python 3",
   "language": "python",
   "name": "python3"
  },
  "language_info": {
   "codemirror_mode": {
    "name": "ipython",
    "version": 3
   },
   "file_extension": ".py",
   "mimetype": "text/x-python",
   "name": "python",
   "nbconvert_exporter": "python",
   "pygments_lexer": "ipython3",
   "version": "3.5.2"
  }
 },
 "nbformat": 4,
 "nbformat_minor": 2
}
