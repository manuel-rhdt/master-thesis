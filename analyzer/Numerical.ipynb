{
 "cells": [
  {
   "cell_type": "code",
   "execution_count": 1,
   "metadata": {},
   "outputs": [],
   "source": [
    "import numpy as np\n",
    "from matplotlib import pyplot\n",
    "from numba import njit, vectorize"
   ]
  },
  {
   "cell_type": "markdown",
   "metadata": {},
   "source": [
    "First we define some parameters for our system"
   ]
  },
  {
   "cell_type": "code",
   "execution_count": 2,
   "metadata": {},
   "outputs": [
    {
     "data": {
      "text/plain": [
       "(4000.0, 1000.0)"
      ]
     },
     "execution_count": 2,
     "metadata": {},
     "output_type": "execute_result"
    }
   ],
   "source": [
    "kappa = 20\n",
    "lamda = 0.005\n",
    "rho = 0.005\n",
    "mu = 0.02\n",
    "mean_s = kappa / lamda\n",
    "mean_x = mean_s * rho / mu\n",
    "mean_s, mean_x"
   ]
  },
  {
   "cell_type": "code",
   "execution_count": 3,
   "metadata": {},
   "outputs": [],
   "source": [
    "@njit(fastmath=True)\n",
    "def corr_ss(t):\n",
    "    return mean_s * np.exp(-np.abs(t) * lamda)\n",
    "\n",
    "@njit(fastmath=True)\n",
    "def corr_xs_(t):\n",
    "    return rho * mean_s / (lamda + mu) * np.exp(-lamda * t)\n",
    "\n",
    "@njit(fastmath=True)\n",
    "def corr_sx_(t):\n",
    "    a = rho * mean_s / (lamda - mu)\n",
    "    b1 = (1 + (lamda - mu)/(lamda + mu))*np.exp(-mu * t)\n",
    "    b2 = - np.exp(-lamda * np.abs(t))\n",
    "    return a * (b1 + b2)\n",
    "\n",
    "@njit(fastmath=True)\n",
    "def corr_xs(t):\n",
    "    return np.where(t >= 0, corr_xs_(t), corr_sx_(-t))\n",
    "\n",
    "@njit(fastmath=True)\n",
    "def corr_sx(t):\n",
    "    return np.where(t >= 0, corr_sx_(t), corr_xs_(-t))\n",
    "\n",
    "@njit(fastmath=True)\n",
    "def corr_xx(t):\n",
    "    c1 = np.exp(-mu * np.abs(t)) - np.exp(-lamda * np.abs(t))\n",
    "    c2 = np.exp(-mu * np.abs(t))\n",
    "    d1 = rho**2 / (lamda**2 - mu**2) * mean_s\n",
    "    d2 = (1+rho/(lamda-mu))*mean_x\n",
    "    return (d1*c1 + d2*c2)\n",
    "\n",
    "@njit(fastmath=True)\n",
    "def time_matrix(N, delta_t):\n",
    "    time_stamps = np.expand_dims(np.arange(0, N, delta_t), 0)\n",
    "    return time_stamps - time_stamps.T"
   ]
  },
  {
   "cell_type": "code",
   "execution_count": 4,
   "metadata": {},
   "outputs": [
    {
     "data": {
      "image/png": "[encoded data removed]",
      "text/plain": [
       "<Figure size 288x288 with 2 Axes>"
      ]
     },
     "metadata": {
      "needs_background": "light"
     },
     "output_type": "display_data"
    }
   ],
   "source": [
    "t = time_matrix(100, 0.1)\n",
    "c_ss = corr_ss(t)\n",
    "c_sx = corr_sx(t)\n",
    "c_xs = corr_xs(t)\n",
    "c_xx = corr_xx(t)\n",
    "pyplot.matshow(c_xs)\n",
    "pyplot.colorbar();\n"
   ]
  },
  {
   "cell_type": "code",
   "execution_count": 28,
   "metadata": {},
   "outputs": [],
   "source": [
    "@njit\n",
    "def mutual_information_from_matrix(t):\n",
    "    c_ss = corr_ss(t)\n",
    "    c_sx = corr_sx(t)\n",
    "    c_xs = corr_xs(t)\n",
    "    c_xx = corr_xx(t)\n",
    "    \n",
    "    sign, det_c_ss = np.linalg.slogdet(c_ss)\n",
    "    assert sign == 1\n",
    "    sign, det_c_xx = np.linalg.slogdet(c_xx)\n",
    "    assert sign == 1\n",
    "    \n",
    "    ns = c_ss.shape[0]\n",
    "    nx = c_xx.shape[0]\n",
    "    z = np.empty((ns + nx, ns + nx))    \n",
    "    z[:ns, :ns] = c_ss\n",
    "    z[:ns, ns:] = c_xs\n",
    "    z[ns:, :ns] = c_sx\n",
    "    z[ns:, ns:] = c_xx\n",
    "    \n",
    "    sign, det_z = np.linalg.slogdet(z)\n",
    "    assert sign == 1\n",
    "                \n",
    "    return 0.5 * (det_c_ss + det_c_xx - det_z)"
   ]
  },
  {
   "cell_type": "code",
   "execution_count": 29,
   "metadata": {},
   "outputs": [],
   "source": [
    "@vectorize\n",
    "def mutual_information(L, delta_t):\n",
    "    return mutual_information_from_matrix(time_matrix(L, delta_t))"
   ]
  },
  {
   "cell_type": "code",
   "execution_count": 35,
   "metadata": {},
   "outputs": [
    {
     "data": {
      "text/plain": [
       "0.0019286680053410238"
      ]
     },
     "execution_count": 35,
     "metadata": {},
     "output_type": "execute_result"
    }
   ],
   "source": [
    "(mutual_information(2500, 0.5) - mutual_information(2000, 0.5)) / 500"
   ]
  },
  {
   "cell_type": "code",
   "execution_count": null,
   "metadata": {},
   "outputs": [],
   "source": [
    "x = np.geomspace(0.1, 10, 10)\n",
    "pyplot.plot(x, mutual_information(1000, x) - mutual_information(800, x));"
   ]
  },
  {
   "cell_type": "code",
   "execution_count": 23,
   "metadata": {},
   "outputs": [
    {
     "data": {
      "image/png": "[encoded data removed]",
      "text/plain": [
       "<Figure size 432x288 with 1 Axes>"
      ]
     },
     "metadata": {
      "needs_background": "light"
     },
     "output_type": "display_data"
    }
   ],
   "source": [
    "x = np.arange(0, 3000, 30)\n",
    "pyplot.plot(x, mutual_information(x, 10));"
   ]
  },
  {
   "cell_type": "code",
   "execution_count": 26,
   "metadata": {},
   "outputs": [
    {
     "data": {
      "text/plain": [
       "array([0.        , 0.19539714, 0.25458964, 0.31318882, 0.37144066,\n",
       "       0.42948886, 0.48741757, 0.54527612, 0.60309347, 0.66088662,\n",
       "       0.71866556, 0.77643614, 0.83420182, 0.89196462, 0.94972572,\n",
       "       1.00748583, 1.06524535, 1.12300453, 1.18076351, 1.23852237,\n",
       "       1.29628116, 1.35403991, 1.41179863, 1.46955734, 1.52731605,\n",
       "       1.58507474, 1.64283344, 1.70059213, 1.75835082, 1.81610952,\n",
       "       1.87386821, 1.9316269 , 1.98938559, 2.04714428, 2.10490297,\n",
       "       2.16266166, 2.22042035, 2.27817904, 2.33593773, 2.39369642,\n",
       "       2.45145511, 2.5092138 , 2.56697249, 2.62473118, 2.68248988,\n",
       "       2.74024857, 2.79800726, 2.85576595, 2.91352464, 2.97128333,\n",
       "       3.02904202, 3.08680071, 3.1445594 , 3.20231809, 3.26007678,\n",
       "       3.31783547, 3.37559416, 3.43335285, 3.49111154, 3.54887023,\n",
       "       3.60662892, 3.66438762, 3.72214631, 3.779905  , 3.83766369,\n",
       "       3.89542238, 3.95318107, 4.01093976, 4.06869845, 4.12645714,\n",
       "       4.18421583, 4.24197452, 4.29973321, 4.3574919 , 4.41525059,\n",
       "       4.47300928, 4.53076797, 4.58852666, 4.64628536, 4.70404405,\n",
       "       4.76180274, 4.81956143, 4.87732012, 4.93507881, 4.9928375 ,\n",
       "       5.05059619, 5.10835488, 5.16611357, 5.22387226, 5.28163095,\n",
       "       5.33938964, 5.39714833, 5.45490702, 5.51266571, 5.5704244 ,\n",
       "       5.6281831 , 5.68594179, 5.74370048, 5.80145917, 5.85921786])"
      ]
     },
     "execution_count": 26,
     "metadata": {},
     "output_type": "execute_result"
    }
   ],
   "source": [
    "mutual_information(x, 1)"
   ]
  },
  {
   "cell_type": "code",
   "execution_count": null,
   "metadata": {},
   "outputs": [],
   "source": []
  }
 ],
 "metadata": {
  "kernelspec": {
   "display_name": "Python 3",
   "language": "python",
   "name": "python3"
  },
  "language_info": {
   "codemirror_mode": {
    "name": "ipython",
    "version": 3
   },
   "file_extension": ".py",
   "mimetype": "text/x-python",
   "name": "python",
   "nbconvert_exporter": "python",
   "pygments_lexer": "ipython3",
   "version": "3.7.4"
  }
 },
 "nbformat": 4,
 "nbformat_minor": 2
}
