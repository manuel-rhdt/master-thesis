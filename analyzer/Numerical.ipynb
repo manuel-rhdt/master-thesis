{
 "cells": [
  {
   "cell_type": "code",
   "execution_count": 1,
   "metadata": {},
   "outputs": [],
   "source": [
    "import numpy as np\n",
    "from matplotlib import pyplot\n",
    "from IPython.display import Markdown"
   ]
  },
  {
   "cell_type": "markdown",
   "metadata": {},
   "source": [
    "First we define some parameters for our system"
   ]
  },
  {
   "cell_type": "code",
   "execution_count": 34,
   "metadata": {},
   "outputs": [
    {
     "data": {
      "text/markdown": [
       "\n",
       "We define the following parameters\n",
       "\n",
       "$\\langle s \\rangle = 40.0$\n",
       "\n",
       "$\\langle x \\rangle = 12065.964628624692$\n",
       "\n",
       "$\\tau_s / \\Delta = 20.00000768433904$\n",
       "\n",
       "$\\tau_x / \\Delta = 50.0$\n",
       "\n",
       "$\\rho \\Delta = 9.999996157831957$\n"
      ],
      "text/plain": [
       "<IPython.core.display.Markdown object>"
      ]
     },
     "execution_count": 34,
     "metadata": {},
     "output_type": "execute_result"
    }
   ],
   "source": [
    "# mathematica: {{\\[Mu]->0.00331511,\\[Lambda]->0.005,\\[Rho]->1.}}\n",
    "lamda = 0.005\n",
    "kappa = lamda*40\n",
    "rho = 1.0\n",
    "mu = 0.00331511\n",
    "mean_s = kappa / lamda\n",
    "mean_x = mean_s * rho / mu\n",
    "tau_s = 1/lamda\n",
    "tau_x = 1/mu * (1 + rho * mu / (lamda * (lamda + rho + mu)))\n",
    "delta = tau_x/50\n",
    "\n",
    "Markdown(r\"\"\"\n",
    "We define the following parameters\n",
    "\n",
    "$\\langle s \\rangle = {}$\n",
    "\n",
    "$\\langle x \\rangle = {}$\n",
    "\n",
    "$\\tau_s / \\Delta = {}$\n",
    "\n",
    "$\\tau_x / \\Delta = {}$\n",
    "\n",
    "$\\rho \\Delta = {}$\n",
    "\"\"\".format(mean_s, mean_x, tau_s / delta, tau_x / delta, rho * delta))"
   ]
  },
  {
   "cell_type": "markdown",
   "metadata": {},
   "source": [
    "The analytical rate is defined by $R(S,X)=\\frac{\\lambda}{2}\\left[\\sqrt{1+\\rho/\\lambda}-1\\right]$"
   ]
  },
  {
   "cell_type": "code",
   "execution_count": 39,
   "metadata": {},
   "outputs": [
    {
     "data": {
      "text/markdown": [
       "$R(S,X) = 0.5644102863722255$"
      ],
      "text/plain": [
       "<IPython.core.display.Markdown object>"
      ]
     },
     "execution_count": 39,
     "metadata": {},
     "output_type": "execute_result"
    }
   ],
   "source": [
    "analytical_rate = lambda rho, lamda: lamda/2 * (np.sqrt(1 + rho/lamda) - 1)\n",
    "Markdown(\"$R(S,X) = {}$\".format(analytical_rate(rho, lamda)))"
   ]
  },
  {
   "cell_type": "code",
   "execution_count": 57,
   "metadata": {},
   "outputs": [],
   "source": [
    "def corr_ss(t, rho, mu, lamda, kappa):\n",
    "    return kappa / lamda * np.exp(-np.abs(t) * lamda)\n",
    "\n",
    "def corr_xs_pos(t, rho, mu, lamda, kappa):\n",
    "    return rho * kappa / lamda / (lamda + mu) * np.exp(-lamda * t)\n",
    "\n",
    "def corr_sx_pos(t, rho, mu, lamda, kappa):\n",
    "    a = rho * kappa / lamda / (lamda - mu)\n",
    "    b1 = (1 + (lamda - mu)/(lamda + mu))*np.exp(-mu * t)\n",
    "    b2 = - np.exp(-lamda * np.abs(t))\n",
    "    return a * (b1 + b2)\n",
    "\n",
    "def corr_xs(t, rho, mu, lamda, kappa):\n",
    "    return np.where(t >= 0, corr_xs_pos(t, rho, mu, lamda, kappa), corr_sx_pos(-t, rho, mu, lamda, kappa))\n",
    "\n",
    "def corr_sx(t, rho, mu, lamda, kappa):\n",
    "    return np.where(t >= 0, corr_sx_pos(t, rho, mu, lamda, kappa), corr_xs_pos(-t, rho, mu, lamda, kappa))\n",
    "\n",
    "def corr_xx(t, rho, mu, lamda, kappa):\n",
    "    c1 = np.exp(-mu * np.abs(t)) - np.exp(-lamda * np.abs(t))\n",
    "    c2 = np.exp(-mu * np.abs(t))\n",
    "    d1 = rho**2 / (lamda**2 - mu**2) * kappa / lamda\n",
    "    d2 = (1+rho/(lamda+mu)) * kappa / lamda * rho / mu\n",
    "    return (d1*c1 + d2*c2)\n",
    "\n",
    "def time_matrix(N, delta_t):\n",
    "    time_stamps = np.expand_dims(np.linspace(0, (N-1)*delta_t, N), 0)\n",
    "    return time_stamps - time_stamps.T"
   ]
  },
  {
   "cell_type": "code",
   "execution_count": 58,
   "metadata": {},
   "outputs": [
    {
     "data": {
      "image/png": "[encoded data removed]",
      "text/plain": [
       "<Figure size 288x288 with 2 Axes>"
      ]
     },
     "metadata": {
      "needs_background": "light"
     },
     "output_type": "display_data"
    }
   ],
   "source": [
    "t = time_matrix(128, delta)\n",
    "c_ss = corr_ss(t, rho, mu, lamda, kappa)\n",
    "c_sx = corr_sx(t, rho, mu, lamda, kappa)\n",
    "c_xs = corr_xs(t, rho, mu, lamda, kappa)\n",
    "c_xx = corr_xx(t, rho, mu, lamda, kappa)\n",
    "pyplot.matshow(c_xx)\n",
    "pyplot.colorbar();\n"
   ]
  },
  {
   "cell_type": "code",
   "execution_count": 59,
   "metadata": {},
   "outputs": [],
   "source": [
    "def mutual_information_from_matrix(t, rho, mu, lamda, kappa):\n",
    "    c_ss = corr_ss(t, rho, mu, lamda, kappa)\n",
    "    c_sx = corr_sx(t, rho, mu, lamda, kappa)\n",
    "    c_xs = corr_xs(t, rho, mu, lamda, kappa)\n",
    "    c_xx = corr_xx(t, rho, mu, lamda, kappa)\n",
    "    \n",
    "    sign_ss, det_c_ss = np.linalg.slogdet(c_ss)\n",
    "    sign_xx, det_c_xx = np.linalg.slogdet(c_xx)\n",
    "\n",
    "    z = np.block([[c_ss, c_xs], [c_sx, c_xx]])\n",
    "    \n",
    "    sign_z, det_z = np.linalg.slogdet(z)\n",
    "    \n",
    "    assert sign_ss * sign_xx * sign_z == 1, \"Sign error: ss: {}, xx: {}, z: {}\".format(sign_ss, sign_xx, sign_z)\n",
    "    \n",
    "    return 0.5 * (det_c_ss + det_c_xx - det_z)"
   ]
  },
  {
   "cell_type": "code",
   "execution_count": 60,
   "metadata": {},
   "outputs": [],
   "source": [
    "def mutual_information_(N, delta_t, rho, mu, lamda, kappa):\n",
    "    t = time_matrix(N, delta_t)\n",
    "    return mutual_information_from_matrix(t, rho, mu, lamda, kappa)\n",
    "\n",
    "mutual_information = np.vectorize(mutual_information_)"
   ]
  },
  {
   "cell_type": "code",
   "execution_count": 70,
   "metadata": {},
   "outputs": [
    {
     "data": {
      "text/plain": [
       "array([   1,    2,    4,    8,   16,   32,   64,  128,  256,  512, 1024,\n",
       "       2048])"
      ]
     },
     "execution_count": 70,
     "metadata": {},
     "output_type": "execute_result"
    },
    {
     "data": {
      "image/png": "[encoded data removed]",
      "text/plain": [
       "<Figure size 432x288 with 1 Axes>"
      ]
     },
     "metadata": {
      "needs_background": "light"
     },
     "output_type": "display_data"
    }
   ],
   "source": [
    "# mathematica: {{\\[Mu]->0.00331511,\\[Lambda]->0.005,\\[Rho]->1.}}\n",
    "lamda = 0.005\n",
    "kappa = lamda*40\n",
    "rho = 1.0\n",
    "mu = 0.00331511\n",
    "mean_s = kappa / lamda\n",
    "mean_x = mean_s * rho / mu\n",
    "tau_s = 1/lamda\n",
    "tau_x = 1/mu * (1 + rho * mu / (lamda * (lamda + rho + mu)))\n",
    "delta = tau_x/50.0\n",
    "\n",
    "N = 2**np.arange(0,12)\n",
    "pyplot.scatter(N, mutual_information(N, delta, rho, mu, lamda, kappa));\n",
    "pyplot.plot(N, analytical_rate(rho, lamda) * N * delta)\n",
    "pyplot.xscale('log')\n",
    "pyplot.yscale('log')\n",
    "pyplot.xlabel('$N$')\n",
    "N"
   ]
  },
  {
   "cell_type": "code",
   "execution_count": 62,
   "metadata": {},
   "outputs": [
    {
     "data": {
      "image/png": "[encoded data removed]",
      "text/plain": [
       "<Figure size 432x288 with 1 Axes>"
      ]
     },
     "metadata": {
      "needs_background": "light"
     },
     "output_type": "display_data"
    }
   ],
   "source": [
    "T = 20\n",
    "\n",
    "N = 2**np.arange(0,13)\n",
    "delta_arr = T/N\n",
    "\n",
    "for lamda in [15,10,5,3,1,0.5,0.1]:\n",
    "    rho = 15\n",
    "    mu = 1.5\n",
    "    kappa = lamda\n",
    "    pyplot.plot(delta_arr / T, mutual_information(N, delta_arr, rho, mu, lamda, kappa) / (T * analytical_rate(rho, lamda)))\n",
    "pyplot.xscale('log')"
   ]
  },
  {
   "cell_type": "code",
   "execution_count": 41,
   "metadata": {},
   "outputs": [
    {
     "data": {
      "text/plain": [
       "0.5644102863722255"
      ]
     },
     "execution_count": 41,
     "metadata": {},
     "output_type": "execute_result"
    }
   ],
   "source": [
    "analytical_rate(rho, lamda)"
   ]
  },
  {
   "cell_type": "code",
   "execution_count": 82,
   "metadata": {},
   "outputs": [
    {
     "data": {
      "text/plain": [
       "(200.0, 83.33333333333334, 0.6103515625)"
      ]
     },
     "execution_count": 82,
     "metadata": {},
     "output_type": "execute_result"
    },
    {
     "data": {
      "image/png": "[encoded data removed]",
      "text/plain": [
       "<Figure size 432x288 with 1 Axes>"
      ]
     },
     "metadata": {
      "needs_background": "light"
     },
     "output_type": "display_data"
    }
   ],
   "source": [
    "# applied to sim\n",
    "kappa = 20.0\n",
    "lamda = 0.005\n",
    "rho = 0.005\n",
    "mu = 0.02\n",
    "\n",
    "tau_s = 1/lamda\n",
    "tau_x = 1/mu * (1 + rho * mu / (lamda * (lamda + rho + mu)))\n",
    "\n",
    "N = 2**np.arange(0,13)\n",
    "T = 2500\n",
    "delta = T / N[-1]\n",
    "pyplot.scatter(N * delta, mutual_information(N, delta, rho, mu, lamda, kappa));\n",
    "pyplot.plot(N * delta, analytical_rate(rho, lamda) * N * delta)\n",
    "pyplot.xscale('log')\n",
    "pyplot.yscale('log')\n",
    "pyplot.xlabel('$N$')\n",
    "\n",
    "tau_s, tau_x, delta"
   ]
  },
  {
   "cell_type": "code",
   "execution_count": 80,
   "metadata": {},
   "outputs": [
    {
     "data": {
      "text/plain": [
       "array([0.07155042, 0.07221034, 0.07352942, 0.07616464, 0.08142376,\n",
       "       0.09190024, 0.1127109 , 0.15391634, 0.23541893, 0.39725253,\n",
       "       0.72029812, 1.36630923, 2.65833046])"
      ]
     },
     "execution_count": 80,
     "metadata": {},
     "output_type": "execute_result"
    }
   ],
   "source": [
    "mutual_information(N, delta, rho, mu, lamda, kappa)"
   ]
  },
  {
   "cell_type": "code",
   "execution_count": 84,
   "metadata": {},
   "outputs": [
    {
     "data": {
      "text/plain": [
       "array([6.10351562e-01, 1.22070312e+00, 2.44140625e+00, 4.88281250e+00,\n",
       "       9.76562500e+00, 1.95312500e+01, 3.90625000e+01, 7.81250000e+01,\n",
       "       1.56250000e+02, 3.12500000e+02, 6.25000000e+02, 1.25000000e+03,\n",
       "       2.50000000e+03])"
      ]
     },
     "execution_count": 84,
     "metadata": {},
     "output_type": "execute_result"
    }
   ],
   "source": [
    "N * delta"
   ]
  },
  {
   "cell_type": "code",
   "execution_count": null,
   "metadata": {},
   "outputs": [],
   "source": []
  }
 ],
 "metadata": {
  "kernelspec": {
   "display_name": "Python 3",
   "language": "python",
   "name": "python3"
  },
  "language_info": {
   "codemirror_mode": {
    "name": "ipython",
    "version": 3
   },
   "file_extension": ".py",
   "mimetype": "text/x-python",
   "name": "python",
   "nbconvert_exporter": "python",
   "pygments_lexer": "ipython3",
   "version": "3.7.4"
  }
 },
 "nbformat": 4,
 "nbformat_minor": 2
}
